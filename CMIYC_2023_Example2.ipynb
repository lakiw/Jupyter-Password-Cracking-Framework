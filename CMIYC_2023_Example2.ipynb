{
 "cells": [
  {
   "cell_type": "markdown",
   "id": "d390a56a-41b1-4b92-8611-1543fe1cd9aa",
   "metadata": {
    "editable": true,
    "slideshow": {
     "slide_type": ""
    },
    "tags": []
   },
   "source": [
    "<img src=\"./images/fancy_hashcat.png\" alt=\"A cat with a tophat at a computer. Aka JtR + H\" width=\"800\"/>\n",
    "\n",
    "# Advanced Techniques for Cracking CMIYC_2023 Hashes\n",
    "\n",
    "### Disclaimer\n",
    "\n",
    "**As this Notebook demonstrates how to create custom hashlists/wordlists, if you run this entire notebook it will create those files in the ./challenge_files/CMIYC2023_Street directory**\n",
    "\n",
    "### References (And Spoilers)\n",
    "\n",
    "I wrote three blog posts talking about how to use JupyterLab to aid in compeating in the CMIYC2023 Password Cracking Competition. These posts use a very early version of this framework and I'll be using the techniques descibed in them in this Notebook.\n",
    "\n",
    "- [Part 1: Basic tips on how to use JupyterLab. The previous Notebook covers most of this](https://reusablesec.blogspot.com/2023/08/using-jupyterlab-to-manage-password.html)\n",
    "- [Part 2: Creating custom hashlists and wordlist](https://reusablesec.blogspot.com/2023/08/using-jupyterlab-to-manage-password_22.html)\n",
    "- [Part 3: Advanced Hashcat techniques](https://reusablesec.blogspot.com/2023/08/hashcat-tips-and-tricks-for-hacking.html)"
   ]
  },
  {
   "cell_type": "markdown",
   "id": "f4d6d993-c132-4563-a11f-c7057a746f64",
   "metadata": {},
   "source": [
    "### Loading the configuration and the initial challenge files\n",
    "\n",
    "Even if you already did this in the previous Notebook, these Notebooks do not share a common kernel so you will need to reload the challenge files to make use of them in this Notebook"
   ]
  },
  {
   "cell_type": "code",
   "execution_count": 1,
   "id": "682ced1a-4297-499b-9f02-fef016996aa8",
   "metadata": {},
   "outputs": [
    {
     "name": "stdout",
     "output_type": "stream",
     "text": [
      "Starting to load challenge yaml file. This may take a minute or two\n",
      "Done loading the challenge yaml file.\n"
     ]
    }
   ],
   "source": [
    "from lib_framework.session_mgr import SessionMgr\n",
    "\n",
    "# Loading the config this way to make it os independent on what you are running this on\n",
    "import os\n",
    "import sys\n",
    "config_file = os.path.join(\n",
    "    '.',\n",
    "    'challenge_files',\n",
    "    'CMIYC2023_Street',\n",
    "    'config.yml'\n",
    "    )\n",
    "\n",
    "sm = SessionMgr(config_file)"
   ]
  },
  {
   "cell_type": "markdown",
   "id": "4f2ffab6-25ae-426b-ba19-86039e79f01d",
   "metadata": {},
   "source": [
    "### Loading cracked passwords from Potfiles\n",
    "\n",
    "Just like loading the hashes, we also need to load the cracked passwords. This is very important for the following steps since we will be creating dictionaries and left lists which requires a few cracked passwords to be helpful. As in the previous Notebook, I'm seperating out the \"loading pot files\" from the \"loading challenge files\" since I reload the potfiles constantly during cracking sessions as I crack more passwords.                                                   "
   ]
  },
  {
   "cell_type": "code",
   "execution_count": 2,
   "id": "afc08325-f2a8-4165-ad67-64b1ada1ea74",
   "metadata": {},
   "outputs": [
    {
     "name": "stdout",
     "output_type": "stream",
     "text": [
      "Number of new plains added to the JtR pot file: 0\n",
      "Number of new plains added to the Hashcat pot file: 0\n"
     ]
    }
   ],
   "source": [
    "sm.load_main_pots(verbose=False, update_only=True)\n",
    "sm.update_main_pots()"
   ]
  },
  {
   "cell_type": "markdown",
   "id": "144b7dfe-9888-4a5b-83e7-072946d8a5b1",
   "metadata": {
    "tags": []
   },
   "source": [
    "### Creating custom left lists (of hashes) based on metadata\n",
    "\n",
    "With unsalted hashes, it generally doesn't matter if you have a bunch of \"junk\" hashes that you aren't directly targeting in the hashlists that you are cracking. But for salted and computationally expensive hashes, you want to only target hashes that your attacks have been optimized to crack. That's where the idea of targeted \"left lists\" come from.\n",
    "\n",
    "For example, in the CMIYC 2023 competition, hashed belonging to employees in the Sales department were created with fairly easy to guess passwords. Therefore, let's create a left list that only contains hashes belonging to Sales teammembers. To do this, we'll use the **SessionMgr.create_left_list(is_jtr=True, file_name=None, hash_type=None, filter=None)** function.\n",
    "\n",
    "**is_jtr**: If True, it will format the hashes for John the Ripper cracking sessions. If False it will format them for HashCat.\n",
    "\n",
    "**file_name**: The name/location of the file to write the left-list. If not specified it will output them to stdout.\n",
    "\n",
    "**hash_type**: Allows you to filter the left-list by hashtype. Aka if you want to only create it for bcrypt hashes. If None, then it will output uncracked hashes for all hash types\n",
    "\n",
    "**filter**: A dictionary that contains all the key/value pairs to filter the left list on. If a value is listed as none, it will only filter based on if the key exists for a target containing the uncracked hash. You can specify multiple filters, but currently only one filter per key/value pair. Aka if you want key1:value1 and key1:value2, you can't do that and will need to run this twice and manually combine the results.\n",
    "\n",
    "Note: If you forget what the categories are that you can filter on, you can always call SessionMgr.print_metadata_categories()\n",
    "\n",
    "Note 2: You'll notice the **semicolon ;** at the end of the sm.create_left_list in the call below. That supresses printing the return value of the function to this Notebook. I'm doing this since create_left_list also returns a list of all the hashes written to disk as its return value as well. This enables more advanced usage of these commands which will be demostrated later in this Notebook."
   ]
  },
  {
   "cell_type": "code",
   "execution_count": 3,
   "id": "92c74817-67cd-42e3-900a-38cb44596b0d",
   "metadata": {},
   "outputs": [],
   "source": [
    "# Writing the left list to the CMIYC2023_Street directory\n",
    "file_name = os.path.join(\n",
    "    '.',\n",
    "    'challenge_files',\n",
    "    'CMIYC2023_Street',\n",
    "    'sales_only.hash'\n",
    "    )\n",
    "\n",
    "sm.create_left_list(format=\"jtr\", file_name=file_name, filter={'Department':'Sales'});"
   ]
  },
  {
   "cell_type": "markdown",
   "id": "846b0a4f-84c2-4cc5-b9c9-d039a5dd1933",
   "metadata": {},
   "source": [
    "### Creating custom wordlists/dictionaries\n",
    "\n",
    "The other thing you often need to do is create wordlists/dictionaries based on previously cracked passwords. This can be used as part of loopback style attacks, but you can also feed these wordlists into other analysis tools like the [PCFG Toolset](https://github.com/lakiw/pcfg_cracker) or [PACK](https://github.com/iphelix/pack).\n",
    "\n",
    "One challenge with these competitions is that passwords from each challenge is often generated in a very different manner. This means that if you train on every cracked password it can create rules that don't apply to your targeted list. Therefore the framework's method to generate custom wordlists **SessionMgr.create_cracked_list(self, file_name=None, hash_type=None, filter=None)** has the same filtering ability/format as the method to **create_left_list()**. The only difference is that while create_left_list() generates a list of uncrackes hashes, create_cracked_list() creates a wordlist of cracked plaintext values."
   ]
  },
  {
   "cell_type": "code",
   "execution_count": 4,
   "id": "05692273-8dad-4bc4-ae69-492af7df1341",
   "metadata": {},
   "outputs": [],
   "source": [
    "# Writing the word list to the CMIYC2023_Street directory\n",
    "file_name = os.path.join(\n",
    "    '.',\n",
    "    'challenge_files',\n",
    "    'CMIYC2023_Street',\n",
    "    'sales_only.dic'\n",
    "    )\n",
    "\n",
    "sm.create_cracked_list(file_name=file_name, filter={'Department':'Sales'});"
   ]
  },
  {
   "cell_type": "markdown",
   "id": "1ed0c95c-8bf4-4a7a-82fc-126143008b97",
   "metadata": {},
   "source": [
    "### Advanced Hashcat Association Attack Generation\n",
    "\n",
    "Now let's get into more advanced use-cases. Specifically let's dig into generating custom wordlists and hashlists to support a Hashcat association attack **(-a9 mode)**. This is detailed more in this blog post (also listed above) [Advanced Hashcat Techniques](https://reusablesec.blogspot.com/2023/08/hashcat-tips-and-tricks-for-hacking.html). For CMIYC2023 a set of passwords were generated by converting the \"Created\" timestamp to a Unix epoc timestamp. To speed things up when cracking a high value/high cost hash like BCrypt, Hashcat can run a 1 to 1 attack of hash/guess which is what an association attack does. To generate a matching hashlist + wordlist for this you can do the following:\n",
    "\n",
    "#### Step 1: Create the hash_list\n",
    "\n",
    "The following code will create a left list of all uncracked bcrypt hashes. You'll notice we are also saving the results of this call to the variable bcrypt_hashes. This way we can later generate a matching wordlist. Also you'll notice we're filtering it so only hashes with a \"Created\" metadata field are being saved. Since it is **{\"Created\":None)** with **None** as the value it will save all hashes that have the field regardless of the field's value."
   ]
  },
  {
   "cell_type": "code",
   "execution_count": 5,
   "id": "1e71ee94-f496-4aaf-8f7e-898fa90b12f6",
   "metadata": {},
   "outputs": [
    {
     "data": {
      "text/plain": [
       "['4:$2a$08$aS2yUSnLXC20LhjBXirILu.DfORtGv9sMXl3cQ8sHXFAIigD70jBq',\n",
       " '10:$2a$08$cEflaFnAPhP/WybRbUzKQOyNyDOPYfjHGHmYNAng85V5n4EuFCjsy',\n",
       " '19:$2a$08$R1O2UBXJKEjFKjHHKzjMPeszZLnAe4EloGBcp9XUJY41aST0tbqo.',\n",
       " '31:$2a$08$UlnKUVHDXjLJTlb2aVfvQuEz1hKU3J12U5DqYICDt81j8scCIiXkO',\n",
       " '34:$2a$08$b1H0K0KyJxKwSEPlQzjQTOuCtos03xteJ1yzQHpTC8dzYG3o4E0L6',\n",
       " '46:$2a$08$ZCjqXlP3Uk3pPw3VTS2wOuDhP3x6Za3saEbNWtNQufvqNMSUOieLW',\n",
       " '55:$2a$08$LhPrbkXYLBb1cUXlL0XzKO8aYveFGsGCJrWUTAK3kEiqFnJEW0YhC',\n",
       " '57:$2a$08$MCnRKjfkRkW1LTbEUS22Le.RRnJHXuN15JOZaJdEHNSkG.qww3zj6',\n",
       " '86:$2a$08$YVXBYETGYRTyQDXmThbPXuk2.JX1.A4Qo4o.sSkHLGy4TZ20Ng6cW',\n",
       " '88:$2a$08$ZSPlaCWsOi7WUjH0PEjOaee8DSUuJbn.XYjNF/df9H0UbeQ/pf9rW',\n",
       " '108:$2a$08$Rx/vKx.2YzHLWVn2WybpQua2/S9vuhbfDBGEV3iPNWwF2l/z8znLu',\n",
       " '112:$2a$08$OU7GbU6vYifUW1DOTxbyZO6vAtcI1GV/IUnklBvox4PsxDGavgSqq',\n",
       " '136:$2a$08$Oy2sckHKWVDpbCnKL1a3T.PgyXHaU0w2g20XwSnkTjDt4Od.QD/Zu']"
      ]
     },
     "execution_count": 5,
     "metadata": {},
     "output_type": "execute_result"
    }
   ],
   "source": [
    "# Writing the left list to the CMIYC2023_Street directory\n",
    "file_name = os.path.join(\n",
    "    '.',\n",
    "    'challenge_files',\n",
    "    'CMIYC2023_Street',\n",
    "    'epoc_bcrypt.hash'\n",
    "    )\n",
    "\n",
    "sm.create_left_list(format=\"jtr\", file_name=file_name, hash_type=\"bcrypt\", filter={\"Created\":None})"
   ]
  },
  {
   "cell_type": "markdown",
   "id": "44f97745-28f3-4261-abe8-029c5f8bd10c",
   "metadata": {},
   "source": [
    "#### Step 2: Create the wordlist\n",
    "\n",
    "\n",
    "This example is going to look more like traditional Python3 code since there is no way that we can anticipate the weird plaintext generation methods we'll run into like using the Unix epoc time of the Created date. Still since JupyterLab lets us write code directly into these cells it makes it really easy to throw something together and troubleshoot it on the fly. Note, you need to run Step 1 first for the bcrypt_hashes variable to be initalized."
   ]
  },
  {
   "cell_type": "code",
   "execution_count": 6,
   "id": "465b7431-3d91-4a62-a126-b8aa9e62a7ec",
   "metadata": {},
   "outputs": [],
   "source": [
    "# Using Python's built-in datetime to do the time to Unix epoc conversion\n",
    "import datetime\n",
    "\n",
    "# Rather than have a left list formatted for a password cracking program, you can also create one\n",
    "# of the hash indexes in this framework. That makes it easier to use them in other python code like\n",
    "# the following. You do this by setting the format=\"index\"\n",
    "bcrypt_hashes = sm.create_left_list(format=\"index\", file_name=None, hash_type=\"bcrypt\", filter={\"Created\":None}, silent=True)\n",
    "\n",
    "# Writing the wordlist list to the CMIYC2023_Street directory\n",
    "file_name = os.path.join(\n",
    "    '.',\n",
    "    'challenge_files',\n",
    "    'CMIYC2023_Street',\n",
    "    'epoc_bcrypt.dic'\n",
    "    )\n",
    "\n",
    "# Open the file to write the wordlist to\n",
    "with open (file_name, \"w\") as guess_output:\n",
    "    # Go through each hash in the hashlist\n",
    "    for hash_id in bcrypt_hashes:\n",
    "        \n",
    "        # This is a list of all targets that have this hash associated with them\n",
    "        targets = sm.target_list.hash_lookup[hash_id]\n",
    "        \n",
    "        # Normally you would want to loop through all of the targets since theoretically the same\n",
    "        # hash might be shared across multiple targets. But since hashcat's association attack requires a\n",
    "        # 1 to 1 mapping we want to only have one guess per hash.\n",
    "        if not targets:\n",
    "            # Write a placeholder if there isn't a target for this hash. This shouldn't happen since\n",
    "            # we filtered for hashes with the metadata \"Created\" which means they must have a target\n",
    "            # associated with them. But it's always good to check twice!\n",
    "            guess_output.write(\"placeholder\")\n",
    "            continue\n",
    "        \n",
    "        # As mentioned above, only look at the first target for this hash\n",
    "        target_id = targets[0]\n",
    "        if 'Created' in sm.target_list.targets[target_id].metadata:\n",
    "            created_time = sm.target_list.targets[target_id].metadata['Created']\n",
    "            \n",
    "            # Get the timezone in the proper format to parse it with datetime\n",
    "            # This was super annoying to figure out during a cracking session FYI\n",
    "            gmt_timezone = created_time.replace(\"CST\",\"-0600\")\n",
    "            gmt_timezone = gmt_timezone.replace(\"CDT\",\"-0500\")\n",
    "            \n",
    "            # Reorder the timestamp in the right format. Once again, very annoying to figure this out\n",
    "            timestamp = datetime.datetime.strptime(gmt_timezone, '%a %b %d %H:%M:%S %z %Y')\n",
    "            \n",
    "            # Needed to adjust for daylight savings time. Super annoying. I'm sure there is\n",
    "            # an easier way to do this\n",
    "            epoc_timestamp = f\"{int(datetime.datetime.strftime(timestamp, '%s')) + 3600}\"\n",
    "            \n",
    "            # Actually save the results to disk\n",
    "            guess_output.write(f\"{epoc_timestamp}\\n\")\n",
    "            \n",
    "        else:\n",
    "            # Write a placeholder if there isn't a created time for this hash. It shouldn't occur\n",
    "            # since we created this hashlist with a \"Created\" filter\n",
    "            guess_output.write(\"placeholder2\")"
   ]
  },
  {
   "cell_type": "markdown",
   "id": "b4464057-3744-4eac-8954-751c24c1c4ce",
   "metadata": {},
   "source": [
    "#### Running the attack\n",
    "\n",
    "Now that we have the left list **\"epoc_bcrypt.hash\"** and the wordlist **\"epoc_bcrypt.dic\"** we can now run an association attack with Hashcat. I'd recommend doing running that outside of this notebook but the command you can use on the command line is:\n",
    "\n",
    "`hashcat -o cmiyc2023_hc.potfile -a 9 -m 3200 epoc_bcrypt.hash epoc_bcrypt.dic`\n",
    "\n",
    "As a friendly reminder, Hashcat association attacks by defualt will not use your normal potfiles since they can generate duplicate guesses. Which is why a different potfile is specified in the command above."
   ]
  },
  {
   "cell_type": "code",
   "execution_count": null,
   "id": "655f6184-de6e-445d-8ecf-b627fbf99d16",
   "metadata": {},
   "outputs": [],
   "source": []
  }
 ],
 "metadata": {
  "kernelspec": {
   "display_name": "Python 3 (ipykernel)",
   "language": "python",
   "name": "python3"
  },
  "language_info": {
   "codemirror_mode": {
    "name": "ipython",
    "version": 3
   },
   "file_extension": ".py",
   "mimetype": "text/x-python",
   "name": "python",
   "nbconvert_exporter": "python",
   "pygments_lexer": "ipython3",
   "version": "3.8.10"
  }
 },
 "nbformat": 4,
 "nbformat_minor": 5
}
