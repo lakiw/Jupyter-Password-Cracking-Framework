{
 "cells": [
  {
   "cell_type": "markdown",
   "id": "d390a56a-41b1-4b92-8611-1543fe1cd9aa",
   "metadata": {},
   "source": [
    "![Framework Logo](./images/fancy_hashcat.png)\n",
    "\n",
    "# Advanced Techniques for Cracking CMICY_2023 Hashes\n",
    "\n",
    "### Disclaimer\n",
    "\n",
    "**As this Notebook demonstrates how to create custom hashlists/wordlists, if you run this entire notebook it will create those files in the ./challenge_files/CMIYC2023_Street directory**\n",
    "\n",
    "### References (And Spoilers)\n",
    "\n",
    "I wrote three blog posts talking about how to use JupyterLab to aid in compeating in the CMIYC2023 Password Cracking Competition. These posts use a very early version of this framework and I'll be using the techniques descibed in them in this Notebook.\n",
    "\n",
    "- [Part 1: Basic tips on how to use JupyterLab. The previous Notebook covers most of this](https://reusablesec.blogspot.com/2023/08/using-jupyterlab-to-manage-password.html)\n",
    "- [Part 2: Creating custom hashlists and wordlist](https://reusablesec.blogspot.com/2023/08/using-jupyterlab-to-manage-password_22.html)\n",
    "- [Part 3: Advanced Hashcat techniques](https://reusablesec.blogspot.com/2023/08/hashcat-tips-and-tricks-for-hacking.html)"
   ]
  },
  {
   "cell_type": "markdown",
   "id": "f4d6d993-c132-4563-a11f-c7057a746f64",
   "metadata": {},
   "source": [
    "### Loading the configuration and the initial challenge files\n",
    "\n",
    "Even if you already did this in the previous Notebook, these Notebooks do not share a common kernel so you will need to reload the challenge files to make use of them in this Notebook"
   ]
  },
  {
   "cell_type": "code",
   "execution_count": 2,
   "id": "682ced1a-4297-499b-9f02-fef016996aa8",
   "metadata": {},
   "outputs": [
    {
     "name": "stdout",
     "output_type": "stream",
     "text": [
      "Starting to load challenge yaml file. This may take a minute or two\n"
     ]
    }
   ],
   "source": [
    "from lib_framework.session_mgr import SessionMgr\n",
    "\n",
    "# Loading the config this way to make it os independent on what you are running this on\n",
    "import os\n",
    "import sys\n",
    "config_file = os.path.join(\n",
    "    '.',\n",
    "    'challenge_files',\n",
    "    'CMIYC2023_Street',\n",
    "    'config.yml'\n",
    "    )\n",
    "\n",
    "sm = SessionMgr(config_file)"
   ]
  },
  {
   "cell_type": "code",
   "execution_count": null,
   "id": "d7bcde56-3f2d-4a01-b4d6-c0fa3ea7234c",
   "metadata": {},
   "outputs": [],
   "source": []
  }
 ],
 "metadata": {
  "kernelspec": {
   "display_name": "Python 3",
   "language": "python",
   "name": "python3"
  },
  "language_info": {
   "codemirror_mode": {
    "name": "ipython",
    "version": 3
   },
   "file_extension": ".py",
   "mimetype": "text/x-python",
   "name": "python",
   "nbconvert_exporter": "python",
   "pygments_lexer": "ipython3",
   "version": "3.6.9"
  }
 },
 "nbformat": 4,
 "nbformat_minor": 5
}
