{
 "cells": [
  {
   "cell_type": "markdown",
   "id": "ef4c09e7-a3c9-4a8c-9afb-a20d244fc38e",
   "metadata": {},
   "source": [
    "# Session Management\n",
    "\n",
    "### Options to sync and sort hash lists, target specific wordlists, and pot files"
   ]
  },
  {
   "cell_type": "code",
   "execution_count": 1,
   "id": "4b5b527c-8e46-4885-bf0e-f8d9563d50b5",
   "metadata": {},
   "outputs": [
    {
     "name": "stdout",
     "output_type": "stream",
     "text": [
      "Starting to load challenge yaml file. This may take a minute or two\n"
     ]
    }
   ],
   "source": [
    "from lib_framework.session_mgr import SessionMgr\n",
    "\n",
    "config_file = \"config.yml\"\n",
    "\n",
    "sm = SessionMgr(config_file)"
   ]
  },
  {
   "cell_type": "code",
   "execution_count": 2,
   "id": "e3e16a85-c245-4807-ba1d-e7492607237e",
   "metadata": {},
   "outputs": [
    {
     "name": "stdout",
     "output_type": "stream",
     "text": [
      "Algorithm     :Total      :Cracked   :Remaining :Percentage\n",
      "md5crypt       :3231      :0         :3231      :0%\n",
      "ssha           :3239      :0         :3239      :0%\n",
      "bcrypt         :3400      :0         :3400      :0%\n",
      "raw-md5        :3247      :0         :3247      :0%\n",
      "raw-sha256     :3307      :0         :3307      :0%\n",
      "sha256crypt    :3388      :0         :3388      :0%\n",
      "raw-sha1       :3328      :0         :3328      :0%\n",
      "ssha512        :3439      :0         :3439      :0%\n",
      "sha1crypt      :3268      :0         :3268      :0%\n"
     ]
    }
   ],
   "source": [
    "sm.print_status()"
   ]
  },
  {
   "cell_type": "code",
   "execution_count": 3,
   "id": "a3067aca-a63d-4e07-9370-bb6c64b77198",
   "metadata": {},
   "outputs": [
    {
     "name": "stdout",
     "output_type": "stream",
     "text": [
      "Can not load potfile /mnt/c/research/cmiyc/2023/john.pot since it did not look like a potfile\n",
      "Error loading hashes from the main John the Ripper pot file /mnt/c/research/cmiyc/2023/john.pot\n",
      "Error, the potfile /mnt/c/research/cmiyc/2023/hashcat.potfile does not end with .pot\n",
      "Exiting out to avoid corrupting any potential hashes or files\n",
      "Can not load potfile /mnt/c/research/cmiyc/2023/hashcat.potfile since it did not look like a potfile\n",
      "Error loading hashes from the main Hashcat pot file /mnt/c/research/cmiyc/2023/john.pot\n"
     ]
    }
   ],
   "source": [
    "sm.load_main_pots()"
   ]
  },
  {
   "cell_type": "code",
   "execution_count": 4,
   "id": "0592e816-c55b-493c-967f-2b2a774a8926",
   "metadata": {},
   "outputs": [
    {
     "name": "stdout",
     "output_type": "stream",
     "text": [
      "Can not load potfile /mnt/c/research/cmiyc/2023/john.pot since it did not look like a potfile\n",
      "Error loading hashes from the main John the Ripper pot file /mnt/c/research/cmiyc/2023/john.pot\n",
      "Error, the potfile /mnt/c/research/cmiyc/2023/hashcat.potfile does not end with .pot\n",
      "Exiting out to avoid corrupting any potential hashes or files\n",
      "Can not load potfile /mnt/c/research/cmiyc/2023/hashcat.potfile since it did not look like a potfile\n",
      "Error loading hashes from the main Hashcat pot file /mnt/c/research/cmiyc/2023/john.pot\n"
     ]
    }
   ],
   "source": [
    "sm.load_main_pots()"
   ]
  },
  {
   "cell_type": "code",
   "execution_count": null,
   "id": "e2f95541-dd19-4620-87b9-353e585ba74e",
   "metadata": {},
   "outputs": [],
   "source": []
  }
 ],
 "metadata": {
  "kernelspec": {
   "display_name": "Python 3",
   "language": "python",
   "name": "python3"
  },
  "language_info": {
   "codemirror_mode": {
    "name": "ipython",
    "version": 3
   },
   "file_extension": ".py",
   "mimetype": "text/x-python",
   "name": "python",
   "nbconvert_exporter": "python",
   "pygments_lexer": "ipython3",
   "version": "3.6.9"
  }
 },
 "nbformat": 4,
 "nbformat_minor": 5
}
