{
 "cells": [
  {
   "cell_type": "markdown",
   "id": "d435ac4e-64a2-41a3-b787-f076d1227e4f",
   "metadata": {},
   "source": [
    "# Cracking CMIYC_2022 Hashes (MULTIPLE HASHFILE EXAMPLE)\n",
    "\n",
    "### Disclaimer\n",
    "\n",
    "**As this Notebook demonstrates how to create custom hashlists/wordlists, if you run this entire notebook it will create those files in the ./challenge_files/CMIYC2022_Street directory**\n",
    "\n",
    "### References (And Spoilers)\n",
    "\n",
    "For more information about extracting and cracking the hashes for CMIYC 2022 contest, as well as cracking them, here are some blog posts I've written on the contest: \n",
    "\n",
    "- [My original writeup for compeating in the CMIYC2022 Challenges](https://reusablesec.blogspot.com/2022/08/more-password-cracking-tips-defcon-2022.html)\n",
    "- \n",
    "[Revisiting the CMIYC 2022 Challenges: Using this JupyterLab framework](https://reusablesec.blogspot.com/2023/11/jupyter-lab-framework-example.html)\n",
    "\n",
    "### Top Level Goals\n",
    "\n",
    "I figure the best way to improve this JupyterLab framework is to try and use it myself. Beyond that though, this particular example will focus on some of the aspects that made the CMIYC2022 challenges different from the CMIYC2023 challenges. Specifically how the challenge files were plain hashes of different types, and how each dataset was generated a specific way. Therefore this guide will highlight some of the more recent features I've added into the JupyterLab framework such as the ability to automatically parse logs generated from password cracking sessions and display their results in the framework itself."
   ]
  },
  {
   "cell_type": "markdown",
   "id": "b91b323b-d791-4eb6-8b2a-00ed58027092",
   "metadata": {},
   "source": [
    "### Loading the configuration and the initial challenge files\n",
    "\n",
    "What was nice about the CMIYC2022 challenge was that it contained several different files which only contained hashes of the same type. This makes it very easy to parse with this JupyterLab framework. In the config file, you just need to specify the \"plain_hash\" format. For example:\n",
    "\n",
    "```\n",
    "challenge_files:\n",
    "    list14:\n",
    "      file: \"./challenge_files/CMIYC2022_Street/sample_hashes/list14-4214-BrunnersMentalPrisoner.hashes\"\n",
    "      format: \"plain_hash\"\n",
    "      type: \"mysqlna\"\n",
    "      source: \"list14-BrunnersMentalPrisoner\"\n",
    "```\n",
    "\n",
    "The 'type' is the hash format to use, and the 'source' is the name used to identify the source of the hashes in this framework."
   ]
  },
  {
   "cell_type": "markdown",
   "id": "a6c4b9e3-a685-4249-b5a4-1a3bde62034c",
   "metadata": {},
   "source": [
    "The example below demonstrates initializing the SessionMgr to load the sample challenge hashes from the CMIYC2022 contest."
   ]
  },
  {
   "cell_type": "code",
   "execution_count": 1,
   "id": "a2eccfb8-d87b-4a12-bf36-b55b84624217",
   "metadata": {},
   "outputs": [
    {
     "name": "stdout",
     "output_type": "stream",
     "text": [
      "Starting to load challenge file: ./challenge_files/CMIYC2022_Street/sample_hashes/list14-4214-BrunnersMentalPrisoner.hashes. This may take a minute or two\n",
      "Done loading the challenge file.\n",
      "Starting to load challenge file: ./challenge_files/CMIYC2022_Street/sample_hashes/list16-FL_kdIZUGpI.txt. This may take a minute or two\n",
      "Done loading the challenge file.\n",
      "Starting to load challenge file: ./challenge_files/CMIYC2022_Street/sample_hashes/list17.txt. This may take a minute or two\n",
      "Done loading the challenge file.\n",
      "Starting to load challenge file: ./challenge_files/CMIYC2022_Street/sample_hashes/list18.hash. This may take a minute or two\n",
      "Done loading the challenge file.\n",
      "Starting to load challenge file: ./challenge_files/CMIYC2022_Street/sample_hashes/list19-paidanextra500000.hashes. This may take a minute or two\n",
      "Done loading the challenge file.\n",
      "Starting to load challenge file: ./challenge_files/CMIYC2022_Street/sample_hashes/list20-Authoritiesappeartohaveuncoveredavastnefariousconspiracy.hashes. This may take a minute or two\n",
      "Done loading the challenge file.\n",
      "Starting to load challenge file: ./challenge_files/CMIYC2022_Street/sample_hashes/list21.hashes. This may take a minute or two\n",
      "Done loading the challenge file.\n",
      "Starting to load challenge file: ./challenge_files/CMIYC2022_Street/sample_hashes/list24.hashes. This may take a minute or two\n",
      "Done loading the challenge file.\n"
     ]
    }
   ],
   "source": [
    "from lib_framework.session_mgr import SessionMgr\n",
    "\n",
    "# Loading the config this way to make it os independent on what you are running this on\n",
    "import os\n",
    "import sys\n",
    "config_file = os.path.join(\n",
    "    '.',\n",
    "    'challenge_files',\n",
    "    'CMIYC2022_Street',\n",
    "    'config.yml'\n",
    "    )\n",
    "\n",
    "sm = SessionMgr(config_file)"
   ]
  },
  {
   "cell_type": "markdown",
   "id": "928782b0-800e-42d6-94c0-f29a394a756e",
   "metadata": {},
   "source": [
    "### Creating the \"Left\" password lists\n",
    "\n",
    "While you can certainly run attacks against the raw lists of password hashes from the contest files, it can be helpful to create custom left lists to target. For example:\n",
    "\n",
    "- Using this framework to create left lists will append the hash_id as the username for hash lists. This will make it easier to parse JtR log files.\n",
    "- If you are targeting salted hash lists, creating a left list will allow you to perform further targeting of hashes to speed up cracking sessions\n",
    "- Many hashes \"look\" the same to password crackers. E.g. MD5, MD5, NTLM, etc. Creating different files for them can speed up loading of cracking sessions as you are not loading/checking the wrong hashes.\n",
    "- It's kind of nice to see these left lists get smaller over time ;p\n",
    "\n",
    "One thing to keep in mind is you can keep re-running this after you crack more passwords and load the pots back into this framework. Reloading the pots back in is important as that way cracked passwords will not be written to the updated left list. Loading those pots will be shown later using the sm.load_main_pots() function call."
   ]
  },
  {
   "cell_type": "code",
   "execution_count": 2,
   "id": "feae1266-b1ad-4e9d-9dc5-64996a2d5057",
   "metadata": {
    "jp-MarkdownHeadingCollapsed": true,
    "tags": []
   },
   "outputs": [],
   "source": [
    "# Writing the left list to the CMIYC2023_Street directory\n",
    "file_name = os.path.join(\n",
    "    '.',\n",
    "    'challenge_files',\n",
    "    'CMIYC2022_Street',\n",
    "    'sample_hashes',\n",
    "    'all_hashes_left.hash'\n",
    "    )\n",
    "\n",
    "sm.create_left_list(is_jtr=True, file_name=file_name);"
   ]
  },
  {
   "cell_type": "markdown",
   "id": "b09f767d-d1fe-4b82-b978-3b1d39edb7be",
   "metadata": {
    "tags": []
   },
   "source": [
    "### Performing basic analysis of cracked passwords\n",
    "\n",
    "The next couple of commands load the pot files and perform basic analysis of progress against the challenge hashes. As you crack more passwords, you can re-run the following cells to update you on your progress."
   ]
  },
  {
   "cell_type": "code",
   "execution_count": 3,
   "id": "2771fbfd-e5d3-4100-a4a8-b746360f7feb",
   "metadata": {},
   "outputs": [
    {
     "name": "stdout",
     "output_type": "stream",
     "text": [
      "Number of new plains added to the JtR pot file: 0\n",
      "Number of new plains added to the Hashcat pot file: 0\n"
     ]
    }
   ],
   "source": [
    "sm.load_main_pots(verbose=False, update_only=True)\n",
    "sm.update_main_pots()"
   ]
  },
  {
   "cell_type": "code",
   "execution_count": 4,
   "id": "eaa6f06c-de8d-487a-8e4a-f0c19ed65fa3",
   "metadata": {},
   "outputs": [
    {
     "name": "stdout",
     "output_type": "stream",
     "text": [
      "Algorithm      :Total     :Cracked   :Remaining :Percentage\n",
      "mysqlna        :4214      :166       :4048      :4%\n",
      "half-md5       :2766      :0         :2766      :0%\n",
      "raw-md5        :2933      :546       :2387      :19%\n",
      "raw-sha1       :5455      :2988      :2467      :55%\n",
      "raw-sha256     :4997      :0         :4997      :0%\n",
      "raw-sha384     :10004     :0         :10004     :0%\n",
      "mssql05        :10812     :18        :10794     :0%\n",
      "ssha           :2000      :1993      :7         :100%\n"
     ]
    }
   ],
   "source": [
    "sm.print_status()"
   ]
  },
  {
   "cell_type": "code",
   "execution_count": 5,
   "id": "8242e38f-f6e7-400c-bfdd-9d5854ceb77a",
   "metadata": {},
   "outputs": [
    {
     "name": "stdout",
     "output_type": "stream",
     "text": [
      "Hash Type:     Value Per Crack:    Points Earned:      Total Possible Points:\n",
      "mysqlna        17                  2822                71638\n",
      "half-md5       3                   0                   8298\n",
      "raw-md5        1                   546                 2933\n",
      "raw-sha1       5                   14940               27275\n",
      "raw-sha256     13                  0                   64961\n",
      "raw-sha384     46                  0                   460184\n",
      "mssql05        9                   162                 97308\n",
      "ssha           5                   9965                10000\n",
      "\n",
      "Total Score: 28435\n",
      "Maximum Possible Score: 742597\n"
     ]
    }
   ],
   "source": [
    "sm.print_score()"
   ]
  },
  {
   "cell_type": "code",
   "execution_count": 6,
   "id": "d3542ebd-2606-4a5f-b606-030597a88f20",
   "metadata": {},
   "outputs": [
    {
     "name": "stdout",
     "output_type": "stream",
     "text": [
      "source                   :Number of Hashes :Cracked\n",
      "list14-BrunnersMentalPrisoner:4214             :166\n",
      "list16-FL_kdIZUGpI       :2766             :0\n",
      "list17                   :2933             :546\n",
      "list18                   :5455             :2988\n",
      "list19-paidanextra500000 :4997             :0\n",
      "list20-Authoritiesappearto:10004            :0\n",
      "list21                   :10812            :18\n",
      "list24                   :2000             :1993\n"
     ]
    }
   ],
   "source": [
    "sm.print_metadata_items(\"source\")"
   ]
  },
  {
   "cell_type": "markdown",
   "id": "6d62ca4e-74ca-4e42-91ef-cd97398ab996",
   "metadata": {},
   "source": [
    "### Parsing logs from password cracking sessions\n",
    "\n",
    "Password cracking tools such as John the Ripper and Hashcat have the ability to create logs of password cracking sessions. This can be very helpful when keeping track of what attacks you have run, and how successful they were. One challenge though is the log file format for both JtR and Hashcat are very different, and they log differet peices of information. At a high level, here are some of the important info that is included, (and not included), in both log formats.\n",
    "\n",
    "#### John the Ripper Log Format:\n",
    "**Contains**\n",
    "+ Detailed information about session info (e.g. command line used, attack type, wordlist dictionary, etc)\n",
    "+ Information about the target hashes in a cracking session (filename, hash type, number of hashes, etc)\n",
    "+ Session time and compleation info. Aka how long the attack took\n",
    "+ Which rule cracked which password\n",
    "**Missing**\n",
    "- Cracked password hashes are not listed in the logfile. Instead it lists usernames of cracked passwords. If you don't have usernames in your target list it defaults to only listing the cracked password hash as '?'"
   ]
  },
  {
   "cell_type": "code",
   "execution_count": 7,
   "id": "ca7d2511-1520-4641-8cb0-32d5c8b2935d",
   "metadata": {},
   "outputs": [
    {
     "name": "stdout",
     "output_type": "stream",
     "text": [
      "Unsuported Log Line: ! Invalid rule at line 743: Invalid position code ^A' accepted\n"
     ]
    }
   ],
   "source": [
    "sm.read_all_logs();"
   ]
  },
  {
   "cell_type": "markdown",
   "id": "a81538fc-fe36-4095-a761-2508b75d1337",
   "metadata": {},
   "source": [
    "**Quick Tip**: I'm splitting up the ServiceManager.read_all_logs() and the ServiceManager.print_log_sessions() calls so that if errors or issues occur it is easier to see and debug, but often you might want to put both of these in the same cell so that way you don't have to remember to run two cells in the correct order to see their results.\n",
    "\n",
    "**Feedback Request**: If you see lines being printed out from ServiceManager.read_all_logs() that means you encountered log lines I currently don't handle. If you could submit an issue to the github repository for this toolset listing the line (or a sanatized version of it) I'd appreciate it so I can make sure I'm properly parsing it."
   ]
  },
  {
   "cell_type": "code",
   "execution_count": 8,
   "id": "28621f81-117f-45e1-8b48-6084457c7de7",
   "metadata": {},
   "outputs": [
    {
     "name": "stdout",
     "output_type": "stream",
     "text": [
      "Logs for Hash Type: PDF\n",
      "    Session ID: 0\n",
      "        Tool: John the Ripper\n",
      "        Num Cracked Hashes: 1\n",
      "        Loaded: 1\n",
      "        Compleated: True\n",
      "        Run Time (seconds): 23\n",
      "        Cracking Mode: single\n",
      "            Wordlist: password.lst\n",
      "            Ruleset: Wordlist\n",
      "            Num Rules: 3068\n",
      "            Wordlist Only Attack\n",
      "Logs for Hash Type: Raw-SHA1\n",
      "    Session ID: 1\n",
      "        Tool: John the Ripper\n",
      "        Num Cracked Hashes: 144\n",
      "        Loaded: 5455\n",
      "        Compleated: True\n",
      "        Run Time (seconds): 18\n",
      "        Cracking Mode: wordlist\n",
      "            Wordlist: dic-0294.txt\n",
      "            Ruleset: best64\n",
      "            Num Rules: 79\n",
      "    Session ID: 3\n",
      "        Tool: John the Ripper\n",
      "        Num Cracked Hashes: 2\n",
      "        Loaded: 5455\n",
      "        Compleated: True\n",
      "        Run Time (seconds): 47\n",
      "        Cracking Mode: wordlist\n",
      "            Wordlist: hashes.org-2020.txt\n",
      "    Session ID: 4\n",
      "        Tool: John the Ripper\n",
      "        Num Cracked Hashes: 0\n",
      "        Loaded: 5455\n",
      "        Compleated: False\n",
      "        Run Time (seconds): 158\n",
      "        Cracking Mode: wordlist\n",
      "            Wordlist: hashes.org-2020.txt\n",
      "            Ruleset: hashcat\n",
      "            Num Rules: 144365\n",
      "    Session ID: 5\n",
      "        Tool: John the Ripper\n",
      "        Num Cracked Hashes: 25\n",
      "        Loaded: 5455\n",
      "        Compleated: False\n",
      "        Run Time (seconds): 1507\n",
      "        Cracking Mode: wordlist\n",
      "            Wordlist: hashes.org-2020.txt\n",
      "            Ruleset: single\n",
      "            Num Rules: 1719\n",
      "Logs for Hash Type: Raw-MD5\n",
      "    Session ID: 2\n",
      "        Tool: John the Ripper\n",
      "        Num Cracked Hashes: 19\n",
      "        Loaded: 2916\n",
      "        Compleated: True\n",
      "        Run Time (seconds): 16\n",
      "        Cracking Mode: wordlist\n",
      "            Wordlist: dic-0294.txt\n",
      "            Ruleset: best64\n",
      "            Num Rules: 79\n",
      "    Session ID: 6\n",
      "        Tool: John the Ripper\n",
      "        Num Cracked Hashes: 529\n",
      "        Loaded: 2916\n",
      "        Compleated: True\n",
      "        Run Time (seconds): 37141\n",
      "        Cracking Mode: wordlist\n",
      "            Wordlist: hashes.org-2020.txt\n",
      "            Ruleset: single\n",
      "            Num Rules: 1719\n",
      "Logs for Hash Type: mysqlna\n",
      "    Session ID: 7\n",
      "        Tool: John the Ripper\n",
      "        Num Cracked Hashes: 5\n",
      "        Loaded: 4214\n",
      "        Compleated: False\n",
      "        Run Time (seconds): 292\n",
      "        Cracking Mode: incremental\n",
      "            Incremental Attack: alnum\n",
      "    Session ID: 9\n",
      "        Tool: John the Ripper\n",
      "        Num Cracked Hashes: 0\n",
      "        Loaded: 4214\n",
      "        Compleated: True\n",
      "        Run Time (seconds): 6\n",
      "        Cracking Mode: single\n",
      "            Num Rules: 1719\n",
      "            Wordlist Only Attack\n",
      "    Session ID: 10\n",
      "        Tool: John the Ripper\n",
      "        Num Cracked Hashes: 99\n",
      "        Loaded: 4214\n",
      "        Compleated: False\n",
      "        Run Time (seconds): 4365\n",
      "        Cracking Mode: single\n",
      "            Wordlist: password.lst\n",
      "            Ruleset: Wordlist\n",
      "            Num Rules: 3068\n",
      "            Incremental Attack: ASCII\n",
      "            Incremental Attack Started (seconds): 2438\n",
      "    Session ID: 11\n",
      "        Tool: John the Ripper\n",
      "        Num Cracked Hashes: 6\n",
      "        Loaded: 4214\n",
      "        Compleated: False\n",
      "        Run Time (seconds): 14011\n",
      "        Cracking Mode: stdin\n",
      "    Session ID: 12\n",
      "        Tool: John the Ripper\n",
      "        Num Cracked Hashes: 7\n",
      "        Loaded: 4214\n",
      "        Compleated: False\n",
      "        Run Time (seconds): 729\n",
      "        Cracking Mode: pipe\n",
      "            Ruleset: wordlist\n",
      "            Num Rules: 3068\n",
      "    Session ID: 13\n",
      "        Tool: John the Ripper\n",
      "        Num Cracked Hashes: 26\n",
      "        Loaded: 4214\n",
      "        Compleated: True\n",
      "        Run Time (seconds): 8\n",
      "        Cracking Mode: loopback\n",
      "            Wordlist: jtr_cmiyc2022.pot\n",
      "            Ruleset: wordlist\n",
      "            Num Rules: 3068\n",
      "    Session ID: 14\n",
      "        Tool: John the Ripper\n",
      "        Num Cracked Hashes: 12\n",
      "        Loaded: 4214\n",
      "        Compleated: True\n",
      "        Run Time (seconds): 5\n",
      "        Cracking Mode: loopback\n",
      "            Wordlist: jtr_cmiyc2022.pot\n",
      "            Ruleset: wordlist\n",
      "            Num Rules: 3068\n",
      "    Session ID: 15\n",
      "        Tool: John the Ripper\n",
      "        Num Cracked Hashes: 6\n",
      "        Loaded: 4214\n",
      "        Compleated: True\n",
      "        Run Time (seconds): 5\n",
      "        Cracking Mode: loopback\n",
      "            Wordlist: jtr_cmiyc2022.pot\n",
      "            Ruleset: wordlist\n",
      "            Num Rules: 3068\n",
      "    Session ID: 16\n",
      "        Tool: John the Ripper\n",
      "        Num Cracked Hashes: 0\n",
      "        Loaded: 4214\n",
      "        Compleated: False\n",
      "        Run Time (seconds): 32\n",
      "        Cracking Mode: prince\n",
      "            Wordlist: password.lst\n",
      "            Minimum Guess Length: 1\n",
      "            Maximum Guess Length: 16\n",
      "            Minimum PRINCE Elements: 1\n",
      "            Maximum PRINCE Elements: 8 elements.\n",
      "    Session ID: 17\n",
      "        Tool: John the Ripper\n",
      "        Num Cracked Hashes: 0\n",
      "        Loaded: 4214\n",
      "        Compleated: True\n",
      "        Cracking Mode: mask\n",
      "            Mask Attack: ?a?a?a\n",
      "    Session ID: 18\n",
      "        Tool: John the Ripper\n",
      "        Num Cracked Hashes: 0\n",
      "        Loaded: 4214\n",
      "        Compleated: True\n",
      "        Run Time (seconds): 10\n",
      "        Cracking Mode: mask\n",
      "            Mask Attack: ?a?a?a?a\n",
      "    Session ID: 19\n",
      "        Tool: John the Ripper\n",
      "        Num Cracked Hashes: 0\n",
      "        Loaded: 4214\n",
      "        Compleated: True\n",
      "        Run Time (seconds): 2556\n",
      "        Cracking Mode: mask\n",
      "            Mask Attack: ?a?a?a?a?a\n",
      "    Session ID: 20\n",
      "        Tool: John the Ripper\n",
      "        Num Cracked Hashes: 0\n",
      "        Loaded: 4214\n",
      "        Compleated: True\n",
      "        Run Time (seconds): 41\n",
      "        Cracking Mode: mask\n",
      "            Mask Attack: ?l?l?l?l?l?l\n",
      "Logs for Hash Type: Raw-SHA256\n",
      "    Session ID: 8\n",
      "        Tool: John the Ripper\n",
      "        Num Cracked Hashes: 0\n",
      "        Loaded: 4997\n",
      "        Compleated: False\n",
      "        Run Time (seconds): 168\n",
      "        Cracking Mode: incremental\n",
      "            Incremental Attack: alnum\n"
     ]
    }
   ],
   "source": [
    "sm.print_log_sessions()"
   ]
  },
  {
   "cell_type": "markdown",
   "id": "3f389d4a-3747-436b-8b4e-953021c628b9",
   "metadata": {},
   "source": [
    "### Generating rulesets from cracked passwords\n",
    "\n",
    "A common cracking technique is to run exhausitve rulesets using a small dictioanry to identify effective rules, and then run those rules against much larger dictionaries. To do this you need to figure out which rules were effective to crack passwords. \n",
    "\n",
    "This framework includes the function **ServiceManager.create_ruleset(filename=None, hash_type=None, filter=None)** to do this for you.\n",
    "\n",
    "Like the other functions in this framework, you can use the hash_type to only generate rules from successful strikes agains the target hash_type. Likewise filter will filter out strikes based on hash metadata criteria.\n",
    "\n",
    "The function returns a Python Counter object with the rules and the number of occurences the rules were found. You can also print out the raw rules to a file using the file_name variable.\n",
    "\n",
    "#### Dev Note:\n",
    "Right now there is no cleanup with the rules, so if you mix and match John the Ripper and Hashcat cracking sessions it may output rules that don't work with the other cracking programs. There's a lot of future work here to make this process more effective."
   ]
  },
  {
   "cell_type": "code",
   "execution_count": 9,
   "id": "80ea1dc3-7df6-4016-8600-65f4a10e3742",
   "metadata": {},
   "outputs": [],
   "source": [
    "# Saving the rule file this way to make it os independent on what you are running this on\n",
    "file_name = os.path.join(\n",
    "    '.',\n",
    "    'challenge_files',\n",
    "    'CMIYC2022_Street',\n",
    "    'mysqlna_cracked.rule'\n",
    "    )\n",
    "\n",
    "sm.create_ruleset(file_name=file_name, hash_type=\"mysqlna\");"
   ]
  },
  {
   "cell_type": "code",
   "execution_count": null,
   "id": "46d97079-446a-42f8-8006-68e64d2c9a9c",
   "metadata": {},
   "outputs": [],
   "source": []
  },
  {
   "cell_type": "code",
   "execution_count": null,
   "id": "81f81e83-c456-46f3-b35a-c7bd2086f133",
   "metadata": {},
   "outputs": [],
   "source": []
  }
 ],
 "metadata": {
  "kernelspec": {
   "display_name": "Python 3",
   "language": "python",
   "name": "python3"
  },
  "language_info": {
   "codemirror_mode": {
    "name": "ipython",
    "version": 3
   },
   "file_extension": ".py",
   "mimetype": "text/x-python",
   "name": "python",
   "nbconvert_exporter": "python",
   "pygments_lexer": "ipython3",
   "version": "3.6.9"
  }
 },
 "nbformat": 4,
 "nbformat_minor": 5
}
