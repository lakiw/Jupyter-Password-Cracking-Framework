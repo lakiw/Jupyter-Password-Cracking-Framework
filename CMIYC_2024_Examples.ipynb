{
 "cells": [
  {
   "cell_type": "markdown",
   "id": "f898a2ae-0815-4b28-944b-756c9350ac15",
   "metadata": {
    "editable": true,
    "slideshow": {
     "slide_type": ""
    },
    "tags": []
   },
   "source": [
    "<img src=\"./images/cmiyc2024_test.webp\" alt=\"A kitten with a tophat at a computer. Aka JtR + H\" width=\"800\"/>\n",
    "\n",
    "# Cracking CMIYC 2024 Test Hashes\n",
    "\n",
    "**GETTING READY FOR CMIYC 2024!!!!**\n",
    "\n",
    "### Overview\n",
    "\n",
    "The goal of this notebook is to make it easy as possible for you to get a team registered and ready to participate in CMIYC. I'm hopefull I'll be updating it a lot running up to the contest, so I'd recommend using this as an example, but creating your own notebook to manage your teams cracking sessions. That way you don't have to worry about merge conflicts or overwriting your own work.\n",
    "\n",
    "### Major Features and Training Goals\n",
    "\n",
    "1. How to register a team with CMIYC\n",
    "2. How to decrypt challenge files\n",
    "3. Still working on this section\n",
    "\n"
   ]
  },
  {
   "cell_type": "markdown",
   "id": "88695c29-552d-4616-84ed-cafb765a90e9",
   "metadata": {},
   "source": [
    "### Creating a PGP Key (If Needed)\n",
    "\n",
    "Let's face it. PGP is a pain, and you don't want to have to try and figure it out during the contest. But all communication with the organizers (KoreLogic) needs to be done via PGP encrypted messages. This includes creating a team and submitting hashes. To make this easier, I created some functions to help using the Python3 **pgpy** library.\n",
    "\n",
    "The first function is **generate_read_pgp_private_key**. This will create a new PGP key (if one does not already exit) and write it to the key_file name that you send to it. If a PGP key already exists it'll validate the key and then return it. This way you aren't creating a new key every time this is run. Feel free to skip using this function if you already have a PGP key you want to use, but even the conference organizers recommend using a contest specific PGP key to make it easier to partner with other players."
   ]
  },
  {
   "cell_type": "code",
   "execution_count": 1,
   "id": "9a84553f-4a17-4f2b-8a45-39f629d1cbdd",
   "metadata": {},
   "outputs": [],
   "source": [
    "from lib_framework.pgp_mgr import generate_read_pgp_private_key\n",
    "\n",
    "import os\n",
    "import sys\n",
    "\n",
    "# Setting the path this way to make it OS independent\n",
    "key_file = os.path.join(\n",
    "    '.',\n",
    "    'challenge_files',\n",
    "    'CMIYC2024_Test',\n",
    "    'pgp_key.asc'\n",
    "    )\n",
    "\n",
    "my_private_key = generate_read_pgp_private_key(key_file, email_address=\"YOUR_EMAIL_ADDRESS\", team_name=\"YOUR_TEAM_NAME\")"
   ]
  },
  {
   "cell_type": "markdown",
   "id": "4b929829-b605-44dd-b7b8-b5075de34a3a",
   "metadata": {},
   "source": [
    "### Creating a Registration Email\n",
    "\n",
    "To make it easier to encrypt/decrypt messages I created the **PGP_Mgr** class. I figured a class would be better than having individual functions since I didn't want to have to keep passing in my private key as well as KoreLogic's public key.\n",
    "\n",
    "While I could try to integrate this with individual e-mail services, that seems like a lot of work so PGP_Mgr will output encrypted messages to this workbook as well as save the messages to a file. It's up to you then to actually copy/paste (or attach) that message into an e-mail and send it to KoreLogic at sub-2024@contest.korelogic.com\n",
    "\n",
    "Note, the register_team function will both print the message to your screen as well as return the message. Given the way JupyterLab displays newlines in returned messages I'd recommend hiding the return value using the **\";\"** at the end of the function call, and copy/pasting the printed version."
   ]
  },
  {
   "cell_type": "code",
   "execution_count": 2,
   "id": "74ef6911-defa-4b5c-82f0-46ef2bd14bd8",
   "metadata": {
    "scrolled": true
   },
   "outputs": [
    {
     "name": "stdout",
     "output_type": "stream",
     "text": [
      "-----BEGIN PGP MESSAGE-----\n",
      "\n",
      "wcBMA3EnRIyYyGY/AQf/S08jaSMsH7I4KQj3Uliepi+wa2EQB6HkxoXKamwYIg3b\n",
      "IrWpbzT7J5RS2pKJ7jNdvVRqjhzcvRfQBZe9w1XQNBULfzUusLtzoENl5wNun1Ou\n",
      "XnD2irMCubis2EWBa19LJsnTQJkMs+VMYl0dcQK6L4m/GiPhxNm3MipYbZSDzRCm\n",
      "YNwPbaLazWMThz87YSmMVVuAra7gB4jvKJoFOZavDqs/3djzIe1uqOzuCq9m1sec\n",
      "hW/xkZWuRpctXOHa7B53M7EU+ute81SKudNzk46GVrxQjvKbJNDvhP82NHP7/O2A\n",
      "WzrQhq6Flx6iBmNAorS2FKIKykDMS9MDwLYq/w7e59LHVQGYqI2KYHRACx8JTi0P\n",
      "6BVv3gllo4sF/wNe3ug5rFU99BtU4CdxW50vU/b/rY1c5zpUVf9/+QbwLHs54uRX\n",
      "VlSEZwv4r9OBIVWsv5FTODVjwldZECYkCQrQK0Y2nQJWrZJclB2725NRbtiZ3ytC\n",
      "hhvhr0Cnu0VR3eteRUWBZTLo1MV7sAGH6NVNwaRpxnRoAvlXN96Z5n5s194PA/Db\n",
      "zTi5vxCoSc11XnM206Ywnd1k9fWHorGF5xye4gKZqnzXBkPbQY7cPq2yC1wTI1Da\n",
      "gBPvs9mvuKAINrQfHXmIZpbsNbRy19CD+lnsz4fb+H+Yu0yTckAjca7ao8Bg12DK\n",
      "8bEz95BitFalF8NmYbj+3eITYHZO0o9DDPCDShRViJ1EriVEWALY4QvUB/oonCAJ\n",
      "Dlt2Kkt/ess1eA/piVGfCA+8t6VHjvhFUQ46uWpXQu33Z/4oJf+aIiz6cKpo5wP/\n",
      "q/0FKmzqkYVSZfqFjfqpfdYFbK8QpsG90j9VNNOYnP7+36PPa+cQ1ctLh1cKNmxx\n",
      "dK5HdCmMilZisU2DJ7C6v+pGS7l7v8cobfPfv2Ulnfg0U3sycO18oGChYcHqWn2U\n",
      "PxRv9EEDHoIQVnGagClCw20JldeZSjnGaImWTP6Paa3NWaMvDuCv4VaTfBGeCtzw\n",
      "GWP05gHmn80h4TqH6HToEoUvwX2geGPhwH1n9mVIwVK/uEbsTBl/oNiWZwJXsPTh\n",
      "5yIrq0vGXtgtWcxPaAxHBg9i3emVOYcxrovSIkShYSKcPuZSAvaFphYlEztXMKSE\n",
      "T3RnYe3ILzwC4WJFvWrv+HK9vNz3PAdrzc73vfkwmThlEbaPKg6K0Gup+ZXUVDAe\n",
      "eoynbRuys6oB1xrgnpq1mu2ibYEvjm7N6CkMcg/hcXCunoLKrKc8R4eEFBYNZsaC\n",
      "8PAvY8WsEvtcsnYcnf2JB/Zm5IcrTFOlZZC1l0bGanhTvi+obnFvH64/3/LD3CoG\n",
      "DTl1H1Wd8j18VF7I5SeO5QufTkBiMNrEiLBg6tolvy6mMVKd+VHU2Mfxsv/szbXw\n",
      "ctbd0rxBk9uMOFJFLeckPmBwta58NJV1AVUdSVSRZBXbCLrXzECFBXM6EzIj/AAK\n",
      "P6KGAf/yBSCCI6uyziYXPg58AweG+wznaFVkTRROsdipMhQhhJneQXAvHVcNKDkS\n",
      "MNWghINIoQO4otJwBxJtESggDG3lt3rnQWWwI2B2UinxUI6ESelUdD/UHpAsfpp6\n",
      "6w6Tjo5iXr9wJObFtAW73SppHdOwTDBGn0Gqcul7wfT4HQZjUb3RmHNwnHkUQHp6\n",
      "fcUHi2fOUMvmE87sdAWaoM8R/dvY2vMnvtgKooFiYspoJPdHeWaDGNe1N6h3ieMe\n",
      "ldgkHS2m96XZ94lMxWK/IZbxkY0eHlHJkCl5ZQ0EauAXH39/6mAuEohjkURH0PC6\n",
      "6eJR6DOHuAk3qlf8zcc0c8uduM5NUNqArqHBGsoMCnh3PvEiHf00bz0UszWzYG27\n",
      "KjTEoAMulR+hWit/AEXf6LqKqaU9m1kLfRy9BtXEetV+STgdjbOzn6LaWLGq8f00\n",
      "zVUxU2rUpBGt2YYNZLqXxdRiJtaeh35f/f3z1FYPofahM77XFLEnO8dgQ0K9c+va\n",
      "Ceaou29kc2Qi9LnALEic+jBh4DAQYV1tqsn3QajuhObova6QMJUf5zogWz0BBTdB\n",
      "0BIYyl5OVMBZIyG4ejvfNTpd8vMQqauJIMJn3v1b9+X8VW6qD2XJVb3uilTbwVGw\n",
      "aNA7hjVkxOpa+1XTmhmJe1E6LU/AI8Gcvq98/pkdPSS9UnyeOWYDDeb3hH7Dd+vl\n",
      "oUMtwgiFJPtU87wC48am+9ZslyEf6D4WbyO4qDaWmcsO48sqMH95Wn0UUFxA3Zve\n",
      "pFZ4xTvyWsQzNbhcpwn/ngCoJ8U55jtFcNbgsBmdW4pnMeusGj3I6aQlWt0OF5/t\n",
      "NgWmmnmV8rocGjodW6+3H05PDMyU62ivBy4+OJMG8B/ydLtLrew4oApOIO7PtJwN\n",
      "aCNxpCfi/im7QxlDZ4R8kJxWFOO8GC442uS2fz/c1wwJft1fXBSi/QpsfEu38+OI\n",
      "uJaizF7ub8ty3oHQ2Qiwc2jm2GRjA73d43lOZFgSKvatAK7ztlzTyYWzYkgxZQFt\n",
      "IKqR4IUcJjlp+Sw3LnfSm6Qz1SjYotST7JuvnDrPTtfmMcSeQP9u7Gmuhp6meMBh\n",
      "s8qS49oEYVMIxbbmODVQdvUcKZcDFRATPt9PyejfnP83AzmiBPMiK3cJx8oifaR4\n",
      "kNEoXikS5KG6/qmzXTRQhqlRNzy2SPg7Vf2aAVBCkigAar8uX6BK1xY4eSWAzaHV\n",
      "SqKydHiYG3uJ9xlpXAJPChGKukuKWky4nyZVwIfhtrIkz2NuPPgvCJK/bPpVO3Vv\n",
      "N5AejYXnq/PVhDTi8f4p77x7QmNpiyyWTPkjzgRPmD8N0z23X45HOsV1p2Kv4Y4g\n",
      "S4/VAX1JE5DZBXqpbomm6RW8VSWYdrFneaZxx2Vlacyrc2jw1CYAlQikPzecErGd\n",
      "fnBY8Ytr8YU7EpUa3VGmBMamAiwlPTlqkev7+Q4BbTWLlMX7XD00k+LddWVk+MuI\n",
      "iJJsS1uONGdllhtIV/jNkwjE5hI1vqGngdGx9V8MNXS4JtQPO/UB7Mredfh8ZHfJ\n",
      "n08VRaru5e0llILj+kdM71/48tFEEY4pAVBjW+JlBgP9uKOGdOvmuRQAscG9dmZm\n",
      "XiH31Am8ZSkV4tKBvRTDGjbRH+iTDy9LK8wTFY/aHfN2f6lz6rzb\n",
      "=4Kkx\n",
      "-----END PGP MESSAGE-----\n",
      "\n"
     ]
    }
   ],
   "source": [
    "from lib_framework.pgp_mgr import PGPMgr, read_pgp_key\n",
    "\n",
    "# Load up KoreLogic's submisison public key\n",
    "korelogic_sub_public_key_file = os.path.join(\n",
    "    '.',\n",
    "    'challenge_files',\n",
    "    'CMIYC2024_Test',\n",
    "    'defcon-contest-sub-2024.pub.asc'\n",
    "    )\n",
    "korelogic_sub_public_key = read_pgp_key(korelogic_sub_public_key_file)\n",
    "\n",
    "default_attachment = os.path.join(\n",
    "    '.',\n",
    "    'challenge_files',\n",
    "    'CMIYC2024_Test',\n",
    "    'submission.asc'\n",
    "    )\n",
    "\n",
    "# Create the PGPMgr class\n",
    "pgp_mgr = PGPMgr(my_private_key, korelogic_sub_public_key, default_attachment)\n",
    "\n",
    "# Create Submission e-mail\n",
    "registration_submission = os.path.join(\n",
    "    '.',\n",
    "    'challenge_files',\n",
    "    'CMIYC2024_Test',\n",
    "    'registration_submission.asc'\n",
    "    )\n",
    "pgp_mgr.register_team(\"YOUR_TEAM_NAME\", attachment_filename=registration_submission);"
   ]
  },
  {
   "cell_type": "markdown",
   "id": "e1c64dc8-9eb2-42fc-a98d-12e34eacc2a9",
   "metadata": {},
   "source": [
    "### Decrypting the KoreLogic Confirmation Email\n",
    "\n",
    "If your registration submission was sucessfull, then you should get a follow-up e-mail form KoreLogic with a challenge message in it that you will need to decrypt, sign, and send back to them. To do the decryption you can use the **PGPMgr.decrypt_msg() function.\n",
    "\n",
    "The tricky part is since this isn't integrated directly into your e-mail client, you'll need to save the PGP encrypted part of the message you recieve to a file for this application to read in."
   ]
  },
  {
   "cell_type": "code",
   "execution_count": 3,
   "id": "8b96e293-9ddb-4915-b947-d54499f027f2",
   "metadata": {},
   "outputs": [
    {
     "name": "stdout",
     "output_type": "stream",
     "text": [
      "Chal: AADD-F342-9A58-0D1C\n",
      "\n"
     ]
    }
   ],
   "source": [
    "# Now we need to validate the confirmation e-mail\n",
    "korelogic_challenge_msg = os.path.join(\n",
    "    '.',\n",
    "    'challenge_files',\n",
    "    'CMIYC2024_Test',\n",
    "    'korelogic_comms_challenge.asc'\n",
    "    )\n",
    "challenge_response = pgp_mgr.decrypt_msg(korelogic_challenge_msg)"
   ]
  },
  {
   "cell_type": "markdown",
   "id": "40f670cf-f5a9-4306-a955-64df08732e21",
   "metadata": {},
   "source": [
    "### Sending Back the Challenge Response to KoreLogic\n",
    "\n",
    "Once you have the challenge response, you can then encrypt it using the standard **PGPMgr.encrypt_msg() function. This is the function you'll likely be using for most of your conversations with KoreLogic and for submitting your cracked hashes (that is until I automate cracked hash submissions more. This will save the response to a file, which you can then attach to an e-mail and send back to sub-2024@contest.korelogic.com.\n",
    "\n",
    "Oh and if you are wondering why I'm creating different files for each of these messages, I figured I'd do this in case someone wanted to run this entire notebook so it won't overwrite previous steps. Feel free to use the default filename in the PGPMgr class to only create one file and then run these Jupyter cells one by one for each step."
   ]
  },
  {
   "cell_type": "code",
   "execution_count": 4,
   "id": "12b3d554-077e-462b-af5c-005e718e225a",
   "metadata": {},
   "outputs": [
    {
     "name": "stdout",
     "output_type": "stream",
     "text": [
      "-----BEGIN PGP MESSAGE-----\n",
      "\n",
      "wcBMA3EnRIyYyGY/AQgAhYkvjFUlax1TjHGKiWyXAvvJP9ruJ2igVUy04jdJ4Hz6\n",
      "DlOpOh+K78CBsVZhgf2jXFMYHK6leIgLDM5kbBHVxCXOh5fiPalr9D4AEZMvR0OA\n",
      "SXYiNmiMza+BdC156etvH/AD96A8vPpgYpydvLJbs7RUQC/HUgMDwFq5YCeT6ndq\n",
      "FZh811jHlXZ7GeN811pcRBBUl0it8NbuwxMWGEMi4LDfPqQEUC3jW2OFp7lbSJaV\n",
      "nnXeHE37NZZfvQSm+1M2w2ASG7eG1+HDqt0q9PeQQDStQP6CLcnb1TIDLNup437r\n",
      "wfWY+tOLxyPjN8McNM8mufiQLuYCpu0oYOtUKkrssNLB2QEGYgmaYDUhVt9PL6eV\n",
      "hxbnfhsulSrNJeUrQpeI+7UJRRPUAYRfCpsYTd784Y6io01HJNKbO1vn2pCJGhV9\n",
      "kvhd3j09b0NyV4Wgylu4MvhLvxxvu2OfrEU8D5bhCzLF488K89WsQZ5EAiJxiiPf\n",
      "9IUTl3JqutyuAMiAiAoMLXGwDhFf9VH2NFeOgPVkDQB9qBmeLtmd2DMNuVZu3zgr\n",
      "zh8AndXwIUeRg6PEhEke6G8cXeqL0xRB8kwommC8N6Xo+3yXE89+zjsds7fOpj3I\n",
      "hWxqt+/6r6Z0KV9clhEiSa5pcGKIn/SkZFG/nUhg0FsajlR/eZsb+S7PMY2A+glA\n",
      "xTfNfGILDFmB7/si3KjRrl/yskHvvaWgSUKGxDS/2xiA9soxcGSlWKvCFf2viRJM\n",
      "bjhSwVKE2fke5qAINSnFJBSw6zhRjslN9xpIYKzgEsYnZZYz99owMlo/cGfGJPRB\n",
      "K4JSozdB290YyTT8A5cNtvACgmP8eenAE6AGsFIshxYDeyMqyyAHNmbxKKolzlTz\n",
      "kPsr2zHhbTKbWEKer0bkl/7q7rFPCBjFcUTjNEluPaaU/8MiJEYeraWSMS9r7eqM\n",
      "HDkJA0GNUDPMRjDlNwPsyWmwW7a5SNVlcylIlBf1qG8BupavNut0iFCAoL6FnkNV\n",
      "mvj7rHVwCzA84BVYrQi6bJrZzh04kz/9eM356kQN0PORfxyE9gS7n/Ul/I22q3m8\n",
      "u1k5CYCMeGLsQWbsBSqjIUaVsGWNZ8Ov9k0vJgF2zXrhiQcWybsEFwWR1baTXOnP\n",
      "qY0jEMbVLzzYLUpWUzU9U6EcixrDckwq8dh/2YfKMAW7+DbAwmOJAo0Jj4CRQYyM\n",
      "YWbcPPUuW3r47fJS8hvRilE2v4Z/TGVpvqHv\n",
      "=I1FQ\n",
      "-----END PGP MESSAGE-----\n",
      "\n"
     ]
    }
   ],
   "source": [
    "challenge_response_msg = os.path.join(\n",
    "    '.',\n",
    "    'challenge_files',\n",
    "    'CMIYC2024_Test',\n",
    "    'korelogic_comms_response.asc'\n",
    "    )\n",
    "\n",
    "pgp_mgr.encrypt_msg(challenge_response, attachment_filename=challenge_response_msg);"
   ]
  },
  {
   "cell_type": "markdown",
   "id": "5bcfcae7-cf94-472d-9112-7dbb4da48f41",
   "metadata": {},
   "source": [
    "### Decrypting CMIYC Challenge Files\n",
    "\n",
    "Now that we have a team, let's get to cracking hashes!!!\n",
    "\n",
    "The first thing to do is to download the challenge files. You can obtain these from the Korelogic website at [https://contest-2024.korelogic.com/downloads.html](https://contest-2024.korelogic.com/downloads.html). I'd recommend saving it in the challenge file directory, but you really can save the challenge files anywhere and just update the file path to point to it.\n",
    "\n",
    "The good news is the the challenge files are also encrypted with PGP but this time with a passphrase. So we can use much of the same base code. I created a helper function/wrapper to make this a bit easier. The challenge decryption function is **decrypt_challenge_files(filname, passphrase, attachment_filename)**\n",
    "\n",
    "The attachment_filename is important since if they give you something like an encyrpted zip file you want to save it as a zip file and not have to deal with pasting raw binary into a file..."
   ]
  },
  {
   "cell_type": "code",
   "execution_count": 5,
   "id": "43243bda-8b04-4d40-bdef-be1ae0307d37",
   "metadata": {},
   "outputs": [
    {
     "name": "stdout",
     "output_type": "stream",
     "text": [
      "user1:e9fa198e766d7b9bdfdb872032b2c6ee\n",
      "user2:{SSHA}4Sq+ps0Yeo9HvPV45aeF8Z4wWa1vUlpnTkZIRg==\n",
      "user3:$1$mjlHQY$7ofnyhSdWnn6HyIMf8GIE0\n",
      "user4:$1$h2lb97w8$rSnzQB3FHv9o4VXaOTEyx.\n",
      "user5:$2a$08$SBTibTPJWVGsJzXiaVOzZO9cp8DXeaaQtTCdVe8QxT75N.G2nuk76\n",
      "\n"
     ]
    }
   ],
   "source": [
    "from lib_framework.pgp_mgr import decrypt_challenge_files\n",
    "\n",
    "\n",
    "# Decrypting the first challenge file which is just a text file\n",
    "challenge_file = os.path.join(\n",
    "    '.',\n",
    "    'challenge_files',\n",
    "    'CMIYC2024_Test',\n",
    "    'hashes',\n",
    "    'test_1_passwd.pgp'\n",
    "    )\n",
    "\n",
    "saved_challenge1 = os.path.join(\n",
    "    '.',\n",
    "    'challenge_files',\n",
    "    'CMIYC2024_Test',\n",
    "    'hashes',\n",
    "    'test_1_passwd.hash'\n",
    "    )\n",
    "\n",
    "# Note, unlike a lot of the other functions, this returns a bytearray and not a string\n",
    "# This is because I have no idea what Korelogic is going to toss at us\n",
    "test1_hashes = decrypt_challenge_files(\n",
    "    challenge_file,\n",
    "    \"mXx/Vtt8K$XHv4_a)4ziF*&CnB$ufLyQUJ=iGh<5\",\n",
    "    attachment_filename=saved_challenge1\n",
    "    )\n",
    "\n",
    "print(test1_hashes.decode())"
   ]
  },
  {
   "cell_type": "code",
   "execution_count": 6,
   "id": "d6cd2907-05c3-40d2-bfd9-4b40dcceb478",
   "metadata": {},
   "outputs": [],
   "source": [
    "# Now we will decrypt the second test challenge file which decrypts to a zip file\n",
    "challenge_file = os.path.join(\n",
    "    '.',\n",
    "    'challenge_files',\n",
    "    'CMIYC2024_Test',\n",
    "    'hashes',\n",
    "    'test_1.zip.pgp'\n",
    "    )\n",
    "\n",
    "saved_challenge2 = os.path.join(\n",
    "    '.',\n",
    "    'challenge_files',\n",
    "    'CMIYC2024_Test',\n",
    "    'hashes',\n",
    "    'test_1.zip'\n",
    "    )\n",
    "\n",
    "# Not saving the results into a variable since it's a zip and I don't have time to include\n",
    "# a python zip extractor into this framework\n",
    "decrypt_challenge_files(\n",
    "    challenge_file,\n",
    "    \"&<J>n+MfiY(~Zfg6$:u{t8[&Vh*>iWN;Oo6N;DJ,\",\n",
    "    attachment_filename=saved_challenge2\n",
    "    );"
   ]
  },
  {
   "cell_type": "markdown",
   "id": "6e5b942b-6d8f-405b-9ebb-c9df4f5a7245",
   "metadata": {
    "editable": true,
    "slideshow": {
     "slide_type": ""
    },
    "tags": []
   },
   "source": [
    "### Unzip the Zipped Challenge Files\n",
    "\n",
    "You should have a test_1.zip file in your hashes directory now. You'll need to manually unzip it and copy the challenge files into the hashes directory. \n",
    "\n",
    "**Oh wait! The zip itself is password protected. I guess we need to crack that as well :)**\n",
    "\n",
    "What you'll really need to do is extract the password hash from the encrypted zip file. Luckily I wrote a blog post on how to do this for multiple different file types, so you can reference it during the contest. Here is the link: [https://reusablesec.blogspot.com](https://reusablesec.blogspot.com/2023/11/jupyter-lab-framework-example.html)\n",
    "\n",
    "Using the John the Ripper Zip2John extension (and specifying the full file path for the zip file and the output since I don't know where you installed JtR), you can use the following command to extract the hash:\n",
    "\n",
    "`zip2john test_1.zip >> test1.hash`\n",
    "\n",
    "### A Brief Side-Tangent on Having Multiple Jupyter Notebooks for Different Tasks\n",
    "\n",
    "Now here is a point where I'm going to recommend that you do something different than what I'm doing in this Notebook. Registering a team and unpacking contest hashes are really one-time events per contest. Having them in a notebook makes them easy to run and debug which is nice, but as we move on to actually cracking hashes we'll start doing tasks which we'll be repeating a lot. Aka loading up and managing POT files, generating new rulesets, analyzing new cracks. Therefore it will add a lot to your quality of life to put those tasks in a different Notebook from the previous one-time \"setup\" tasks. That way when you reload your crack management notebook you won't have to re-run these one-time tasks that no longer matter.\n",
    "\n",
    "Now I'm not going to do that since this is more of a tutorial, and splitting up a tutorial into multiple Notebooks will make it easeir to follow and learn from. But just keep that in mind as you set up your own cracking sessions."
   ]
  },
  {
   "cell_type": "markdown",
   "id": "ee825d8e-76c3-4240-a6fb-6a4bbb43d348",
   "metadata": {},
   "source": [
    "### Creating a Config File for the Password Cracking Framework\n",
    "\n",
    "As we move on to actually cracking passwords, we need to create a config file so that SessionMgr of the Framework will have information about what hash files it needs to load, where to store log files, what is the contest point value for different hash types, etc.\n",
    "\n",
    "What I normally do for this is copy/paste a previoius config I was using and update the hash info. There is an example copy of this that I've invluded as **/challenge_files/CMIYC2024_Test/config.yml**\n",
    "\n",
    "Here are a couple of areas that you will need to update:\n",
    "\n",
    "**Location of Main Potfile and Logs**\n",
    "```\n",
    "  jtr_config:\n",
    "    main_pot_file: \"./challenge_files/CMIYC2024_Test/jtr_cmiyc2024.pot\"\n",
    "    log_directory: \"./challenge_files/CMIYC2024_Test/\"\n",
    "  \n",
    "  hashcat_config:\n",
    "    main_pot_file: \"./challenge_files/CMIYC2024_Test/hc_cmiyc2024.potfile\"\n",
    "    log_directory: \"./challenge_files/CMIYC2024_Test/\"\n",
    "```\n",
    "\n",
    "**Values to Assign Cracked Hashes**\n",
    "\n",
    "**Note**: This is taken from the KoreLogic scoreboard\n",
    "```\n",
    "  score_info:\n",
    "    bcrypt: 16777215\n",
    "    md5crypt: 65535\n",
    "    nsldaps: 255\n",
    "    raw-md5: 1\n",
    "```"
   ]
  },
  {
   "cell_type": "code",
   "execution_count": 7,
   "id": "0ee943bf-e3cf-4d82-b605-2491992f9832",
   "metadata": {
    "editable": true,
    "slideshow": {
     "slide_type": ""
    },
    "tags": []
   },
   "outputs": [
    {
     "name": "stdout",
     "output_type": "stream",
     "text": [
      "Starting to load challenge file: ./challenge_files/CMIYC2024_Test/hashes/test1.hash. This may take a minute or two\n",
      "Done loading the challenge file.\n",
      "Starting to load challenge file: ./challenge_files/CMIYC2024_Test/hashes/test_1_passwd.hash. This may take a minute or two\n",
      "Done loading the challenge file.\n"
     ]
    }
   ],
   "source": [
    "from lib_framework.session_mgr import SessionMgr\n",
    "\n",
    "config_file = os.path.join(\n",
    "    '.',\n",
    "    'challenge_files',\n",
    "    'CMIYC2024_Test',\n",
    "    'config.yml'\n",
    "    )\n",
    "\n",
    "sm = SessionMgr(config_file)"
   ]
  },
  {
   "cell_type": "code",
   "execution_count": null,
   "id": "df3b628b-2a90-4f0b-9546-5d9bbfb96377",
   "metadata": {
    "editable": true,
    "slideshow": {
     "slide_type": ""
    },
    "tags": []
   },
   "outputs": [],
   "source": []
  }
 ],
 "metadata": {
  "kernelspec": {
   "display_name": "Python 3 (ipykernel)",
   "language": "python",
   "name": "python3"
  },
  "language_info": {
   "codemirror_mode": {
    "name": "ipython",
    "version": 3
   },
   "file_extension": ".py",
   "mimetype": "text/x-python",
   "name": "python",
   "nbconvert_exporter": "python",
   "pygments_lexer": "ipython3",
   "version": "3.8.10"
  }
 },
 "nbformat": 4,
 "nbformat_minor": 5
}
