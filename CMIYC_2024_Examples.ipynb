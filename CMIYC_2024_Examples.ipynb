{
 "cells": [
  {
   "cell_type": "markdown",
   "id": "f898a2ae-0815-4b28-944b-756c9350ac15",
   "metadata": {},
   "source": [
    "<img src=\"./images/cmiyc2024_test.webp\" alt=\"A kitten with a tophat at a computer. Aka JtR + H\" width=\"800\"/>\n",
    "\n",
    "# Cracking CMIYC 2024 Test Hashes\n",
    "\n",
    "**GETTING READY FOR CMIYC 2024!!!!**\n",
    "\n",
    "### Overview\n",
    "\n",
    "The goal of this notebook is to make it easy as possible for you to get a team registered and ready to participate in CMIYC. I'm hopefull I'll be updating it a lot running up to the contest, so I'd recommend using this as an example, but creating your own notebook to manage your teams cracking sessions.\n",
    "\n",
    "### Major Features and Training Goals\n",
    "\n",
    "1. How to register a team with CMIYC\n",
    "2. TBD. Still need to work on this --Lakiw\n",
    "\n"
   ]
  },
  {
   "cell_type": "markdown",
   "id": "88695c29-552d-4616-84ed-cafb765a90e9",
   "metadata": {},
   "source": [
    "### Creating a PGP Key (If Needed)\n",
    "\n",
    "Let's face it. PGP is a pain, and you don't want to have to try and figure it out during the contest. But all communicaiton with the organizers (KoreLogic) need to be done via PGP encrypted messages. This includes creating a team and submitting hashes. To make this easier, I created some functions to help using the Python3 **pgpy** library.\n",
    "\n",
    "The first function is **generate_read_pgp_private_key**. This will create a new PGP key (if one does not already exit) and write it to the key_file name that you send to it. If a PGP key already exists it'll validate the key and then return it. This way you aren't creating a new key every time this is run."
   ]
  },
  {
   "cell_type": "code",
   "execution_count": 1,
   "id": "9a84553f-4a17-4f2b-8a45-39f629d1cbdd",
   "metadata": {},
   "outputs": [],
   "source": [
    "from lib_framework.pgp_mgr import generate_read_pgp_private_key\n",
    "\n",
    "import os\n",
    "import sys\n",
    "\n",
    "key_file = os.path.join(\n",
    "    '.',\n",
    "    'challenge_files',\n",
    "    'CMIYC2024_Test',\n",
    "    'pgp_key.asc'\n",
    "    )\n",
    "\n",
    "my_private_key = generate_read_pgp_private_key(key_file, email_address=\"cweir@vt.edu\", team_name=\"Reusablesec\")"
   ]
  },
  {
   "cell_type": "markdown",
   "id": "4b929829-b605-44dd-b7b8-b5075de34a3a",
   "metadata": {},
   "source": [
    "### Creating a Registration Email\n",
    "\n",
    "To make it easier to encrypt/decrypt messages I created the **PGP_Mgr** class. I figured a class would be better than having individual functions since I didn't want to have to keep passing in my private key as well as KoreLogic's public key.\n",
    "\n",
    "While I could try to integrate this with individual e-mail services, that seems like a lot of work so PGP_Mgr will output encrypted messages to this workbook. It's up to you then to actually copy/paste that message into an e-mail and send it to KoreLogic at sub-2024@contest.korelogic.com\n",
    "\n",
    "Note, the register_team function will both print the message to your screen as well as return the message. Given the way JupyterLab displays newlines in returned messages I'd recommend hiding the return value using the **\";\"** at the end of the function call, and copy/pasting the printed version."
   ]
  },
  {
   "cell_type": "code",
   "execution_count": 2,
   "id": "74ef6911-defa-4b5c-82f0-46ef2bd14bd8",
   "metadata": {
    "scrolled": true
   },
   "outputs": [
    {
     "name": "stdout",
     "output_type": "stream",
     "text": [
      "-----BEGIN PGP MESSAGE-----\n",
      "\n",
      "wcBMA3EnRIyYyGY/AQgAkZJRenAILqgdaVYWpOpUFZA2zhocrYF+KwyGo0mL98I8\n",
      "c3Df7/hoBfwTL/nY7igGKvH3GFv2z52IDDQHDptDJy6IhjgOiPjVO7vLsOJ0pdfS\n",
      "N65gRfzsjSuWbwkq5nh283TY8IUzi51+vZ2LskQ8zS3z1yxLXWFA0BkHmPRx27zo\n",
      "//SeiESR2UupG+Z4TsDjNhTEbbkTf1WOfIzWqCKgI1o/BDtPCMlxmVsulQ0eyyP4\n",
      "Jo/6D6JfMdqumUZ685Vb21DOK4EDJbArBwOCGlQc0HCe+XdyHiSrgdLA/JgIAr8K\n",
      "pWrD7TihCKC1qRXYeNWCBPdlOjXEW++8uPdPbtwYSNLHTQGrVgYaVCP7fwv8Ankv\n",
      "QuqcvPZrUVu5sySZ1C6mgOD7D7j34A2z1DAGI7Hyu9wNY9+xAWkt1gWPgWBXmjVd\n",
      "Pw0JF7pr1mYUB8PNxz4Of5hkLYkS43KBeNgoYbN6nl3y+yDCP9cCrTQJ79rqbE/r\n",
      "jgoMeihIlLtjLXEmGRROw2OePFCbC2p3LHW/VYdARfKUdbFERO34SrRDsQPO6ASm\n",
      "ohIowybyR2qYtF7o12FX/R1tL0oRuRJ9cl8B/xrFmFo/P5h957r9Sl/em+EUDxh/\n",
      "G2Y3bG6GlBhVwxKzXcER1jTntMNDt1Ela3S33UPo4nVziplpS5ketlh/772ziDKw\n",
      "pi3wyNhRk4hXJls9Q2S48d9kxzABrw0MLc1iPGsW003KgE+V4na5Z5gLKEycO3Nt\n",
      "owLheaapnu1yqa7OsTDQSS32b2QfpQKPwvA322N1htr9FGxvKxSD4YEArF4r1oT2\n",
      "GFAPDZdWoUWj1B4SN832vbYiVERKlZrKtcBC2WdqM7U2SpBzAj4slIcGE02oIdK9\n",
      "3gB/rMwuadl/gB5TA38p2YKjGc+WLqVrilrT8h5/seE0IVugolcHL3AEFuBEHCeI\n",
      "6icBxoeT60jUJrHP3drbKkVwtbT3cecbKTttPz1sUocvBUfO91QeGMFTRvRWTHms\n",
      "ep65+Nkpur4RG/52TAIC0QBnZJ3dFjRt/rwJt3sjC1PFdAH5eGC6LCqNvKQppMh+\n",
      "kR2prQjtODJVEj/I7oCZDQpmiqWI61WStW4xQhggNmq0A0C7c/ItZJFpjyDRAKeE\n",
      "sWqrN0+uUxorvc0/fb/rZn0C41kLB7nutcLKd5hKrWPGlDyfuf5hXQ+UzydPZ3b5\n",
      "HplwR235PRTZtlCeaskAyh8T1NtA/YXajaO5+Bx0O33gA2V4kXLD7JZqAYZ+aW0p\n",
      "tmgm91k8VGTh+l7k25Az0GiZlGXNGXBFhJqqVpWxxdhjqT24AnzgcB3ao4w9r5K1\n",
      "UCPOnL/FRY/ipg0Qu0yk1id5NfluL1lmbUXslQYSCe46hN7an6cF6kzg0e24q1EA\n",
      "G8rYNwF/salcxDHKrJomBaWqI9ALgOKilHZB8T6TlCGIG4NTd76lAchUag6YWAN6\n",
      "32X9REj5p3C8nj6HSFhKb/UWN1TtWayqGR8veVM5WFdxFCoJqt6xtoENTozW0TUL\n",
      "Q9M0AAwCIazo3fhpSGFAlh7LMU/37PwMXMSU3XvYQWG9BDFRgH9i1sxxuG1HYyFV\n",
      "KC6XsKkbJI4rky5lbALr7G1h//XedFF6doPlRHdUf2lqC1mtBYcnEAxMtj0jdM0/\n",
      "StAIKjN2CtmgoUb4vkvs8oWn5RrPtajpnSN8fKwQQWz6QyQAcXpgFS98U75jVyXn\n",
      "EKZ4HLSfmLIXLuicdvIahBbg1QFNMHGQaGJaRqTShrw03BpBAeMeuJpwfNdfnMWE\n",
      "9YaFz7+TIbAUSRQ99FBq/12KwVEDn03wZzrfJyPNYoahmklt70AB6lb+K4Jh/Mps\n",
      "a1oHvpge/MlfJ6T89HrYGjvC1+dW70jeJydwMoNmwbd9d4OxBiQfX7VwjWaRd/O/\n",
      "h7VgMF1J9qmI4CfJqLaE5N7HHw7guf/tvOgbcMfcuI27CoujhBhonNV0YcRO0le+\n",
      "gZpgv5eVsWsCa2/Vzq65NwVzF0bq9TIeOOxy66i7yEDLqIVveohvnoEBIa9UWX7E\n",
      "WAhgXSC5aaQwfB0/B03gJNCmCqLx2KVVADUica1IKfg0puyYdjAEQKETfVfU4QEC\n",
      "v62iDsUJBKyMOna3/7t5B1nrvjRzV3f2FU08vB+/4g0bwSqs1dZX1VWdRUuF9xK8\n",
      "9iLptGaVmNnWKyZPKqp8p/jxbjry6ZhCzZjhKvgBg5P0xdnE7qnWPx+bJEL6oFcz\n",
      "4xi51VS2KpD29AZ6X1PyAx487SwTkvc+7f5bzQcfbB7hkEcHoClSe1BACL5lICdf\n",
      "4yEZ0yZA6jggf7DaAbtbGrGfdKh/GixlneXqrq/0rIPN5s4jqei2gPzILVG1My2J\n",
      "H92zSIaVtriHw5nxt/HaQ523vnrqmGDpWbpa6P1PzEDDmTTwyUoBr+F3gn0LJrvc\n",
      "RriZxZpHoG9MRongBHbuWaCEssWt2JapxobcAHE+xkp9fkHuFWTus+DIageSK0TK\n",
      "Jgz2QXtgd7CY4XjKiP5vqy9SDMmZmazbIoDL2d4+FMe42DdOM6L4mY1dAXZ3fArz\n",
      "EuBw++3o9S3CpP8w470fKdX3acmVw6wAVygQwBm9hddPj2kemX4Fx4lZ4ii7uf4G\n",
      "xUEZVKjuW88FhlXwqzoxC8TTBv3TALdeDmStlj+r4WFEt7zRls7HZJc+zTDCFej2\n",
      "JhALD6Be2aK29LP5GSWQ2e3Xee4tC7JwhWmgLaZqyNJfXkcXcQvKmmtsTLc8W96L\n",
      "dArOzE1FESa6wC82YLGJdssawsx5EbatxsQ2BZsu2ldE7k5vNKPM41f0WDrmdyA9\n",
      "z9LbnrfSqL016ldZxWdI3+e5PFhnB49pWHwWdscgWzi8jZOJHEB4Njrln73m2KcO\n",
      "e0KbVZjN7GrLlyt0+OOeI9krXz0fYbVmFC5b/dctHHsP2hJfaCw0wwB2CtXzflbx\n",
      "xX0y3K+OsF3IS3m9OALj/+TiLY9RVZ40N2ephbV4qA6r5PjAvmY+r6fEF4C3jFGx\n",
      "eVpYchSA8v+Uq94B7whsAegZHszTSOra+EPBYM0VBXgQkjHT+/kmvw/0hMphrz2c\n",
      "R3oDq1yRzfYOTDtnqYyK/OATVInUGXOuJfbfhybJ2Q==\n",
      "=kAK2\n",
      "-----END PGP MESSAGE-----\n",
      "\n"
     ]
    }
   ],
   "source": [
    "from lib_framework.pgp_mgr import PGPMgr, read_pgp_key\n",
    "\n",
    "# Load up KoreLogic's submisison public key\n",
    "korelogic_sub_public_key_file = os.path.join(\n",
    "    '.',\n",
    "    'challenge_files',\n",
    "    'CMIYC2024_Test',\n",
    "    'defcon-contest-sub-2024.pub.asc'\n",
    "    )\n",
    "korelogic_sub_public_key = read_pgp_key(korelogic_sub_public_key_file)\n",
    "\n",
    "default_attachment = os.path.join(\n",
    "    '.',\n",
    "    'challenge_files',\n",
    "    'CMIYC2024_Test',\n",
    "    'submission.asc'\n",
    "    )\n",
    "\n",
    "# Create the PGPMgr class\n",
    "pgp_mgr = PGPMgr(my_private_key, korelogic_sub_public_key, default_attachment)\n",
    "\n",
    "# Create Submission e-mail\n",
    "#pgp_mgr.register_team(\"Someone Didn't Update Their Teamname in the JupyterLab Framework by Lakiw\");\n",
    "pgp_mgr.register_team(\"Reusablesec\");"
   ]
  },
  {
   "cell_type": "code",
   "execution_count": 6,
   "id": "33105772-b6e1-4bcf-98e1-70932943710c",
   "metadata": {},
   "outputs": [
    {
     "name": "stdout",
     "output_type": "stream",
     "text": [
      "Thank you, your key has been successfully confirmed.\n",
      "\n",
      "You can start submitting cracks as soon as the contest has started.\n",
      "\n",
      "Keep an eye on the contest website; we may release some test hashes\n",
      "a few days before the contest, so teams can confirm their submission\n",
      "process works.\n",
      "\n",
      "Don't forget to let us know if you want to compete as a 'Pro' team.\n",
      "\n",
      "\n"
     ]
    }
   ],
   "source": [
    "# Now we need to validate the confirmation e-mail\n",
    "default_attachment = os.path.join(\n",
    "    '.',\n",
    "    'challenge_files',\n",
    "    'CMIYC2024_Test',\n",
    "    'korelogic_comms.asc'\n",
    "    )\n",
    "challenge_response = pgp_mgr.decrypt_msg(default_attachment)"
   ]
  },
  {
   "cell_type": "code",
   "execution_count": 5,
   "id": "e18ef9d9-2619-4291-acfb-1e08686fe5e3",
   "metadata": {},
   "outputs": [
    {
     "name": "stdout",
     "output_type": "stream",
     "text": [
      "-----BEGIN PGP MESSAGE-----\n",
      "\n",
      "wcBMA3EnRIyYyGY/AQf9EkVIvM1jDw7Gs80lxEa5noovNNadNfMqvNiaTrjDVDmX\n",
      "klfZeKQTyVeSaRudL13W+454HwWBqeu7MUv/70DVRSk7BDNzOB8hF7CzUlHY2roi\n",
      "zqnNLvrJl2x7EaSQAUUyci81It4vIRTqn7FvspigiSzn1tOZ2YV2wdOHKijRMI4z\n",
      "piMi1KhQk0IakTLTyJVHgK0veRalfRhOy+M2ac+RyT1Ve9/5Yxx5Bzr/yK1X4d3e\n",
      "pg6aO2ZBBt99XZvLwXyWiJZJmzfVkfxTvYMSz/xNivNg83h4yYxKFj2fX9aeAtxy\n",
      "hKo0ThWWaCHyaMMTwPg7TIK+fZbCkIeMh44CahiYyNLB2QETLXAgS5oQWQePdimA\n",
      "QCoR/EF42opmbe29qGSnnU0mV4Oamk9BNtYMYmAsip+k+gzgWkmITPAkyoJM8RN9\n",
      "ONp0trimATTu9u3/vlIKSsSTQRjBTkgObO15403W1YKBcDyk/w1fJV90AVqO7x04\n",
      "GEs32WaLDw/QcI1dKnQMq4hsTAdeOAke9F7rU2ZCg+hj9+IjbSQANonUedSk83Kd\n",
      "EqxHHYnLS3pFOO9qQzFtaaYGoNA5ldfvaacI8S/P7GaPsRS+7CzMLaRMZY2rnwF+\n",
      "sQumHRPDi2pWVKnCxIBNKasliU4Fzr1PEHlYqqGX1dAbl5QgRH7RxDPp2fK8j1JW\n",
      "kgAEjTriKGp73R73ufVqj8l2yUM+1H/uv4ZE7BpEAvCaPkfA/X93K1QB+MeLHzxM\n",
      "jIS4DUuDE1c64fuV2xBSjb6OeKPxWNrbREfXBlo1rAyGCwwWvlxDEnlc51e9tykW\n",
      "ntFdkxWxg6M/WwG+ZqOP/JYYx5psiFO842OQUtjURcP+I5moMUtX5fEnhoZ0GN5P\n",
      "TVFt7fF+MtLokB/WC8Xb0yso9mvIKKNvVEwU7SEdDMirhhxfDohDwoIgSiBoac+5\n",
      "j5kGjA0L2C00DCO5FFb6/5J3O5STuMIMYISmwmYTQlYCSC8j2Hr4Bk3N5ovon3I7\n",
      "Gf8dz/9JFn0hbme/0MYfTVct++TpuXn3LJmXv3GhUmUtN52ImuZ6wzbxRYNt9opk\n",
      "6EYwpVjEndP8WhZKtXIwTeWcOoKkSTFk5UwG3qAELJ3IwvR1oHVp1bNLiAWSfmXs\n",
      "x2gdckXt13dhT2p5HxEl9IX7MXTLPeMEkJcN3KwY50dm2HtbZbQsT+DRoBjnDXdu\n",
      "ujdXCZ7Ey5zErbTcGLQP5PV5+do27WEk2BBu\n",
      "=FCjT\n",
      "-----END PGP MESSAGE-----\n",
      "\n"
     ]
    },
    {
     "data": {
      "text/plain": [
       "<pgpy.pgp.PGPMessage at 0x7f54b00b9310>"
      ]
     },
     "execution_count": 5,
     "metadata": {},
     "output_type": "execute_result"
    }
   ],
   "source": [
    "pgp_mgr.encrypt_msg(challenge_response)"
   ]
  },
  {
   "cell_type": "code",
   "execution_count": null,
   "id": "27576ea7-e7db-482a-aa19-0d5343150ff2",
   "metadata": {},
   "outputs": [],
   "source": []
  }
 ],
 "metadata": {
  "kernelspec": {
   "display_name": "Python 3 (ipykernel)",
   "language": "python",
   "name": "python3"
  },
  "language_info": {
   "codemirror_mode": {
    "name": "ipython",
    "version": 3
   },
   "file_extension": ".py",
   "mimetype": "text/x-python",
   "name": "python",
   "nbconvert_exporter": "python",
   "pygments_lexer": "ipython3",
   "version": "3.8.10"
  }
 },
 "nbformat": 4,
 "nbformat_minor": 5
}
