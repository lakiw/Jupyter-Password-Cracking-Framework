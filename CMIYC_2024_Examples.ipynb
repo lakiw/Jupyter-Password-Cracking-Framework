{
 "cells": [
  {
   "cell_type": "markdown",
   "id": "f898a2ae-0815-4b28-944b-756c9350ac15",
   "metadata": {
    "editable": true,
    "slideshow": {
     "slide_type": ""
    },
    "tags": []
   },
   "source": [
    "<img src=\"./images/cmiyc2024_test.webp\" alt=\"A kitten with a tophat at a computer. Aka JtR + H\" width=\"800\"/>\n",
    "\n",
    "# Cracking CMIYC 2024 Test Hashes\n",
    "\n",
    "**GETTING READY FOR CMIYC 2024!!!!**\n",
    "\n",
    "### Overview\n",
    "\n",
    "The goal of this notebook is to make it easy as possible for you to get a team registered and ready to participate in CMIYC. I'm hopefull I'll be updating it a lot running up to the contest, so I'd recommend using this as an example, but creating your own notebook to manage your teams cracking sessions. That way you don't have to worry about merge conflicts or overwriting your own work.\n",
    "\n",
    "### Major Features and Training Goals\n",
    "\n",
    "1. How to register a team with CMIYC\n",
    "2. How to decrypt challenge files\n",
    "3. Still working on this section\n",
    "\n"
   ]
  },
  {
   "cell_type": "markdown",
   "id": "88695c29-552d-4616-84ed-cafb765a90e9",
   "metadata": {},
   "source": [
    "### Creating a PGP Key (If Needed)\n",
    "\n",
    "Let's face it. PGP is a pain, and you don't want to have to try and figure it out during the contest. But all communication with the organizers (KoreLogic) needs to be done via PGP encrypted messages. This includes creating a team and submitting hashes. To make this easier, I created some functions to help using the Python3 **pgpy** library.\n",
    "\n",
    "The first function is **generate_read_pgp_private_key**. This will create a new PGP key (if one does not already exit) and write it to the key_file name that you send to it. If a PGP key already exists it'll validate the key and then return it. This way you aren't creating a new key every time this is run. Feel free to skip using this function if you already have a PGP key you want to use, but even the conference organizers recommend using a contest specific PGP key to make it easier to partner with other players."
   ]
  },
  {
   "cell_type": "code",
   "execution_count": 1,
   "id": "9a84553f-4a17-4f2b-8a45-39f629d1cbdd",
   "metadata": {},
   "outputs": [],
   "source": [
    "from lib_framework.pgp_mgr import generate_read_pgp_private_key\n",
    "\n",
    "import os\n",
    "import sys\n",
    "\n",
    "# Setting the path this way to make it OS independent\n",
    "key_file = os.path.join(\n",
    "    '.',\n",
    "    'challenge_files',\n",
    "    'CMIYC2024_Test',\n",
    "    'pgp_key.asc'\n",
    "    )\n",
    "\n",
    "my_private_key = generate_read_pgp_private_key(key_file, email_address=\"YOUR_EMAIL_ADDRESS\", team_name=\"YOUR_TEAM_NAME\")"
   ]
  },
  {
   "cell_type": "markdown",
   "id": "4b929829-b605-44dd-b7b8-b5075de34a3a",
   "metadata": {},
   "source": [
    "### Creating a Registration Email\n",
    "\n",
    "To make it easier to encrypt/decrypt messages I created the **PGP_Mgr** class. I figured a class would be better than having individual functions since I didn't want to have to keep passing in my private key as well as KoreLogic's public key.\n",
    "\n",
    "While I could try to integrate this with individual e-mail services, that seems like a lot of work so PGP_Mgr will output encrypted messages to this workbook as well as save the messages to a file. It's up to you then to actually copy/paste (or attach) that message into an e-mail and send it to KoreLogic at sub-2024@contest.korelogic.com\n",
    "\n",
    "Note, the register_team function will both print the message to your screen as well as return the message. Given the way JupyterLab displays newlines in returned messages I'd recommend hiding the return value using the **\";\"** at the end of the function call, and copy/pasting the printed version."
   ]
  },
  {
   "cell_type": "code",
   "execution_count": 2,
   "id": "74ef6911-defa-4b5c-82f0-46ef2bd14bd8",
   "metadata": {
    "scrolled": true
   },
   "outputs": [
    {
     "name": "stdout",
     "output_type": "stream",
     "text": [
      "-----BEGIN PGP MESSAGE-----\n",
      "\n",
      "wcBMA3EnRIyYyGY/AQf/U/cuIP+jESx3rqzGBpI23BNQdihsMRzeBvE0s0/LWipD\n",
      "lMAVR0AviycG9DqbKDtnIOnnWKLLpHmhn98/kyob0awBetaT1HtSJqgxiO6NOw9M\n",
      "CHYAghbWP8MaWzAwDbBa9lACFsSJHE0sJOy1Y9BXKai16fd81mYBruivKeAs6YJv\n",
      "gzmJf18f2EGhi1d5lC9uGsZC42rHqTar0q56u869VP7WtYSuX3UZYUn7t4pDt3qc\n",
      "x4lTA1fegOZ9iK1bAVhVSU4n2ErHZiurwLoiT3bLUHc2h8MhsD58Zj4mr0g9u8+O\n",
      "s3pWeFEdFk14bZEemW+Jv9FdK541iUuwQlRsCv/tctLHWwEIQ2aCKw/S+vb4de9Y\n",
      "76+gkXrv8G8UfIGu8rA/XI82vPn/4i6+zhNKCnkL5H3zTMhlkPb3IKwyk+mSoTQh\n",
      "/hp7kwb2si42Mhw8e7D3cq8e4JxF8xOZivOew9J5aGEX0v4AmVnTBcNbfVR6B/s+\n",
      "DAkB4MqHRdlbnpT+vHqxfb9UxCAOe37d1++WCdx/BfeARb23eZss7A+t5nadal5h\n",
      "1djqVlkHKjuOb5b1R4IwldXHfZWLI8e09P98YHJGUJYfuUW6sSTOInWGWQ9ZQCAz\n",
      "va6tQpy5AhMTG7Dpib1L1e+fkWiLSuA3nUwXa0qcczHSQYSlvwskB6vWDa7BkJcA\n",
      "9+X7GWbjD4qarXrUVAtJfx6SDIzEVexAB9sAwwYIXZqeRDID/fXaWcZVBdK+QcO0\n",
      "UzmA5zOdhGQF3Pvs4S/hTPd8GAJNqC6JTEryJnlWzeq/m+20Z8hbFzzqc9scJ0Gh\n",
      "rpgy+QP3Kkth3stSRemOSf1zQDLGkQDuz6XOGbkcqMLnCCxltvLfi2o0vx2N6w6C\n",
      "Q3GEhdZmBKBoLlBJxelRwWNVBxUcikeQt/g7biJ/gYHCfzX3ThzX5Dft256PeqDy\n",
      "4pyfqOA34sPSZ5LkiOR6KguUGOrxzReuaBsatiP6Lkexck6XmlpKASiofXDT6Gn2\n",
      "rJhB2uCd2zb96m50C45LKrTOYVdy07T8GdsTZBiSMQS1XfhPsOVfwJSivwdQFPKN\n",
      "lPqjEFFTEpREm2ojceTHP7TKBbXZ+TZdnMHzDOIK3pv7sd3qs6ctFnDz/YN0KjxF\n",
      "fiIvnK+ospzVIA05g5AyUBu4WIUEwWPnV3g0VXQF4d0TazV0LxXibXnlDLWx5hDU\n",
      "DMdU/jhcGCQzEXWgWIm86fgF5ezbo810D51RXAd9tDW2oKo4YGq4GH2eKz+N7a0K\n",
      "zmpdvjDethIvBMBUUsjgpZudZIezP+JM5bf3jxvapOLnFEgvlbvOE63wXwUkhQjW\n",
      "LwUslJeMfVlKtl2I0vcxViXqEkiuRIs3OUOZvvYvSPAYNEvtjbaUWZ41txqO6Sog\n",
      "Y5e+TjxWizJyN07ulZ62hJ1FeFpgbqQK2ubkOIR2zAlvDag64ZUUS3amXnz0rL8G\n",
      "PbNGSqVkatsDhWiy8Xhh2gRxvpYcJIWuZVFq0qnR63dvenqrTN4KLQ/NOhdxfA2V\n",
      "AEPo/CcTizZ6PtGkCP0SIJwW3m5dtLZL4uXqgsxhWvGXltZhZJuKf8Ex60wEFXrH\n",
      "5TaYzAe/vIWZBmd0hfdoifAY/FuyDc2DCHmkYqTs7lazBI/HdF5UsNnOGH6OKHM1\n",
      "cQT7YK10rGSzilHQt+rSIvTBy2BdOQWyeBHYqfCihSnkCiJIp+oyRBWsW5sVjCAL\n",
      "wF+pLtDHxdWMUwKsHMxYMLvAQ2o6VepjFO54SRO0+zdJk5ivEA9FXMKrgF5pMZn1\n",
      "PcLmRWR/V2oMIew05EJmMJvtHasD4VA2tbEOHyDfesO1fL/5IL7oQ44Yu3Mi/9xn\n",
      "SGO62Rr0+qdqYHTwNAoOVFOAUrReOWqRsznC0K10ECxtQlhAavGjnWj/OyMWfuK7\n",
      "N+XC/D5JouUs98OwPtzgNpbshl+nuGHyuTa6LtGkuIgyt8vfNwhRKp0cKx+O5SKE\n",
      "nBHJUYRHg3Kuc3GN419xCXm7VDX9k4uRIKJ7CchLfnF639SNZYGBcB1b+r6V4jcF\n",
      "a6UXuyA3ejdOZp5xooRUY+NILUo4P/yfs67I+ZDbCTJRVTyrFjRPM2n/E3meQTPC\n",
      "5NGQwDJVP6D659KE+2HlPV3gTFoRi2Cy1PH2HEsJ94wWHRPc0kmeAIZIp1EHnNRn\n",
      "7EaKnqCf1aL89a23xz/Ts/P+0xoHbuqQ5QprFaHV2SBVrM8nwpwxHv8QNOgqtlbC\n",
      "qLNtBhsBvH7ZBCRCEFL2mp20f4qU6ngu/mQqzkepPDX1hlnBWoUjwqaIjsYgmJp5\n",
      "oS3oDKu7GerfHuulKaGV8+I9T6jIjtdzYPoDTXxWuxD7nxIMjqTWFWku41I4cjW4\n",
      "MeDQNdo5QGsXL+TbU2/ibLU7wJywxx6VKq8gY2VGJvUw7ygEB6DR9L1ahG0th4dg\n",
      "qrvMlW1h3gk/h/A5qg5RBBGw31sSn4K1A+P+auVMNsPL7WP950B6ORFNcP+hnVe6\n",
      "ws/dSndg0ZEk+lqvmzxRsZpDhxjuXkG2PR8ujpNabuIU4abZa2zYFWesolQqzOxs\n",
      "SWNTDQ9cOBX3ejKL+Pe27u3rzcFYuYotxf5mCjDVpxfsbLB3MFC3EQmMGfCyiVSI\n",
      "AhOr38EFJ/CwmICwGa+ZDbuvDAYeNliJ64E/npN47txjptdyAguegSYV9HXYjdRl\n",
      "OTMdHXtosnnzwfo9nrn52xM+ewuyY3pzBo97Yp/CaF5kzNSMoI4JjryhaMvhVy84\n",
      "y7ItCDe4xqYFiv3bSymG+TZIUxHmag/fS7cgf4u9nyad3kMN2ga2MX4MmhuVLpnI\n",
      "Bb/Ny8vf+j/JpehSnPj5RJSdsKHS3Fy/1UBixRsKu85A/45XWy94BFiRCrbKQj+X\n",
      "XzTXxUO797JKncSSR/GRxlMcNbyZVeNmeHkBVbpaJqCThdWaRK8jPOXQuJJFOSkS\n",
      "kIySF9G9pKlDUcgr8MWHCE5GR+BUEKCXOh7aiXQwTTtrF60p0I61SbpBB8WowvdU\n",
      "EhnwEGPlL2HONJZh1vEI367qQo2stEMcJ5ssTusU3ZR8mbW/X+3ym/F/HQa3D3HV\n",
      "MTPwiXY2NGV+tQxVzY4gWtvX6RlkaUm4QP+FRXnEHLdVvg7WLEoCC9OQqkAL\n",
      "=J5I5\n",
      "-----END PGP MESSAGE-----\n",
      "\n"
     ]
    }
   ],
   "source": [
    "from lib_framework.pgp_mgr import PGPMgr, read_pgp_key\n",
    "\n",
    "# Load up KoreLogic's submisison public key\n",
    "korelogic_sub_public_key_file = os.path.join(\n",
    "    '.',\n",
    "    'challenge_files',\n",
    "    'CMIYC2024_Test',\n",
    "    'defcon-contest-sub-2024.pub.asc'\n",
    "    )\n",
    "korelogic_sub_public_key = read_pgp_key(korelogic_sub_public_key_file)\n",
    "\n",
    "default_attachment = os.path.join(\n",
    "    '.',\n",
    "    'challenge_files',\n",
    "    'CMIYC2024_Test',\n",
    "    'submission.asc'\n",
    "    )\n",
    "\n",
    "# Create the PGPMgr class\n",
    "pgp_mgr = PGPMgr(my_private_key, korelogic_sub_public_key, default_attachment)\n",
    "\n",
    "# Create Submission e-mail\n",
    "registration_submission = os.path.join(\n",
    "    '.',\n",
    "    'challenge_files',\n",
    "    'CMIYC2024_Test',\n",
    "    'registration_submission.asc'\n",
    "    )\n",
    "pgp_mgr.register_team(\"YOUR_TEAM_NAME\", attachment_filename=registration_submission);"
   ]
  },
  {
   "cell_type": "markdown",
   "id": "e1c64dc8-9eb2-42fc-a98d-12e34eacc2a9",
   "metadata": {},
   "source": [
    "### Decrypting the KoreLogic Confirmation Email\n",
    "\n",
    "If your registration submission was sucessfull, then you should get a follow-up e-mail form KoreLogic with a challenge message in it that you will need to decrypt, sign, and send back to them. To do the decryption you can use the **PGPMgr.decrypt_msg() function.\n",
    "\n",
    "The tricky part is since this isn't integrated directly into your e-mail client, you'll need to save the PGP encrypted part of the message you recieve to a file for this application to read in."
   ]
  },
  {
   "cell_type": "code",
   "execution_count": 3,
   "id": "8b96e293-9ddb-4915-b947-d54499f027f2",
   "metadata": {},
   "outputs": [
    {
     "name": "stdout",
     "output_type": "stream",
     "text": [
      "Chal: AADD-F342-9A58-0D1C\n",
      "\n"
     ]
    }
   ],
   "source": [
    "# Now we need to validate the confirmation e-mail\n",
    "korelogic_challenge_msg = os.path.join(\n",
    "    '.',\n",
    "    'challenge_files',\n",
    "    'CMIYC2024_Test',\n",
    "    'korelogic_comms_challenge.asc'\n",
    "    )\n",
    "challenge_response = pgp_mgr.decrypt_msg(korelogic_challenge_msg)"
   ]
  },
  {
   "cell_type": "markdown",
   "id": "40f670cf-f5a9-4306-a955-64df08732e21",
   "metadata": {},
   "source": [
    "### Sending Back the Challenge Response to KoreLogic\n",
    "\n",
    "Once you have the challenge response, you can then encrypt it using the standard **PGPMgr.encrypt_msg() function. This is the function you'll likely be using for most of your conversations with KoreLogic and for submitting your cracked hashes (that is until I automate cracked hash submissions more. This will save the response to a file, which you can then attach to an e-mail and send back to sub-2024@contest.korelogic.com.\n",
    "\n",
    "Oh and if you are wondering why I'm creating different files for each of these messages, I figured I'd do this in case someone wanted to run this entire notebook so it won't overwrite previous steps. Feel free to use the default filename in the PGPMgr class to only create one file and then run these Jupyter cells one by one for each step."
   ]
  },
  {
   "cell_type": "code",
   "execution_count": 4,
   "id": "12b3d554-077e-462b-af5c-005e718e225a",
   "metadata": {
    "scrolled": true
   },
   "outputs": [
    {
     "name": "stdout",
     "output_type": "stream",
     "text": [
      "-----BEGIN PGP MESSAGE-----\n",
      "\n",
      "wcBMA3EnRIyYyGY/AQgAiHkfXJ07kqvFQfDQSp7J1r+xA5P4rWAUGcJJNCa0e1kV\n",
      "SEUkqk6V3ZSKI7BDR2Q4g0sRV7jE/wwxab0ohYUk9xRMioH8I8RGOjqsRXKF4Q6I\n",
      "7qGxq8bdrpMOqe5/xcNeL4lcaCidXbXFEUaptxOvKb6pmlWejWxe6W2BWn6xdGfP\n",
      "helomQWqg4uQDZmZheeuE9i33mNlBzsXpaOPkJR5EhFrRE38x3Oz7YiWpNGaJ6vg\n",
      "5ycrzxT6Uv6HB2RRqRQVKQGnLjvWuKs/fDlNZIKvrzCzELL1M3Yhn2Y2d1JMrwCS\n",
      "1i4liki6cFIJdxNX4s08dcTnZ81VrGrsv81NC8OfPNLB2QF+PU/DKHIQSQ0/c0L+\n",
      "Uy4qhEJVvyoKuysRxsuzEnPPNvSmMwuhimX+9bjghFCkdUyGaKGrJgdWYnfDlzqx\n",
      "Ja/xePppBdh4lm/5FivGCJjc8ZFbjjthAzx3t2MxXLFdku2fl2njne5/6v5Nto5Y\n",
      "/DLC4u8ghWHCXe5DnlHxhQnc7gQYtMEyZx34XJggLNCD8mBlhFwY7pVaUR3iyzm+\n",
      "TO18WCim52q4r5LRl/GS2VomAbqZ6aPgDE0XiQcKUF3nScAGZIBeOxo8zUM5cZOd\n",
      "HnAeEe36bANw5fKmYvwQ1L2Eic2m0wjLDUlRv7//E0GiQaG4FW001zyzk/QQfTy0\n",
      "qtvXyk6J79xL0XNKjhkgC2ypT8YOX9Hml3UVqaETIlDMUQM8RDSiPPkr9trFqmMG\n",
      "+jEclU/39VJINRac3yZP/ZlvQynM80y5BpcWJxWLwWk3qZAZbxAe/orTREa6PImY\n",
      "NG0c3GGzzswUxpXslDyX1J9vBDyv/jwOIl7fYo8ktuhiw2ViDC02fQy/npUbgqjh\n",
      "E5k7rI+jXbVTdQgT8hV0fgsreR2bj58GdvkIftC3b/a5oEEzuupsgAb7I1pQXDu2\n",
      "xu2ySFKLTQKYLaonpYB05hJH2l8eBuOL92ux5nEe9hHJdtyP8v6IDIqQXLUSVdeF\n",
      "b+7VlDwEDlg7L7o/Q0rQIMgvtx3ttf/JvgkyyPLA2z/9Ae+IdBySN/z7zuoxepC3\n",
      "JvWXYXEMIk6Ib9NyTsMG/JIF8Dv7iQatygyfqulWiYx8SgBM3vrkhqI0r2v5E4QB\n",
      "65hmhkfX+uqQKYhF9weryfLjNkdL9M53e3XhNPBRFgfL0+TTngiQMt6chwQ9kx9m\n",
      "/PI+pzixiHtTPq4jD2ytSnaLmh9CLyUshs53\n",
      "=dSnA\n",
      "-----END PGP MESSAGE-----\n",
      "\n"
     ]
    }
   ],
   "source": [
    "challenge_response_msg = os.path.join(\n",
    "    '.',\n",
    "    'challenge_files',\n",
    "    'CMIYC2024_Test',\n",
    "    'korelogic_comms_response.asc'\n",
    "    )\n",
    "\n",
    "pgp_mgr.encrypt_msg(challenge_response, attachment_filename=challenge_response_msg);"
   ]
  },
  {
   "cell_type": "markdown",
   "id": "5bcfcae7-cf94-472d-9112-7dbb4da48f41",
   "metadata": {},
   "source": [
    "### Decrypting CMIYC Challenge Files\n",
    "\n",
    "Now that we have a team, let's get to cracking hashes!!!\n",
    "\n",
    "The first thing to do is to download the challenge files. You can obtain these from the Korelogic website at [https://contest-2024.korelogic.com/downloads.html](https://contest-2024.korelogic.com/downloads.html). I'd recommend saving it in the challenge file directory, but you really can save the challenge files anywhere and just update the file path to point to it.\n",
    "\n",
    "The good news is the the challenge files are also encrypted with PGP but this time with a passphrase. So we can use much of the same base code. I created a helper function/wrapper to make this a bit easier. The challenge decryption function is **decrypt_challenge_files(filname, passphrase, attachment_filename)**\n",
    "\n",
    "The attachment_filename is important since if they give you something like an encyrpted zip file you want to save it as a zip file and not have to deal with pasting raw binary into a file..."
   ]
  },
  {
   "cell_type": "code",
   "execution_count": 5,
   "id": "43243bda-8b04-4d40-bdef-be1ae0307d37",
   "metadata": {},
   "outputs": [
    {
     "name": "stdout",
     "output_type": "stream",
     "text": [
      "user1:e9fa198e766d7b9bdfdb872032b2c6ee\n",
      "user2:{SSHA}4Sq+ps0Yeo9HvPV45aeF8Z4wWa1vUlpnTkZIRg==\n",
      "user3:$1$mjlHQY$7ofnyhSdWnn6HyIMf8GIE0\n",
      "user4:$1$h2lb97w8$rSnzQB3FHv9o4VXaOTEyx.\n",
      "user5:$2a$08$SBTibTPJWVGsJzXiaVOzZO9cp8DXeaaQtTCdVe8QxT75N.G2nuk76\n",
      "\n"
     ]
    }
   ],
   "source": [
    "from lib_framework.pgp_mgr import decrypt_challenge_files\n",
    "\n",
    "\n",
    "# Decrypting the first challenge file which is just a text file\n",
    "challenge_file = os.path.join(\n",
    "    '.',\n",
    "    'challenge_files',\n",
    "    'CMIYC2024_Test',\n",
    "    'hashes',\n",
    "    'test_1_passwd.pgp'\n",
    "    )\n",
    "\n",
    "saved_challenge1 = os.path.join(\n",
    "    '.',\n",
    "    'challenge_files',\n",
    "    'CMIYC2024_Test',\n",
    "    'hashes',\n",
    "    'test_1_passwd.hash'\n",
    "    )\n",
    "\n",
    "# Note, unlike a lot of the other functions, this returns a bytearray and not a string\n",
    "# This is because I have no idea what Korelogic is going to toss at us\n",
    "test1_hashes = decrypt_challenge_files(\n",
    "    challenge_file,\n",
    "    \"mXx/Vtt8K$XHv4_a)4ziF*&CnB$ufLyQUJ=iGh<5\",\n",
    "    attachment_filename=saved_challenge1\n",
    "    )\n",
    "\n",
    "print(test1_hashes.decode())"
   ]
  },
  {
   "cell_type": "code",
   "execution_count": 6,
   "id": "d6cd2907-05c3-40d2-bfd9-4b40dcceb478",
   "metadata": {},
   "outputs": [],
   "source": [
    "# Now we will decrypt the second test challenge file which decrypts to a zip file\n",
    "challenge_file = os.path.join(\n",
    "    '.',\n",
    "    'challenge_files',\n",
    "    'CMIYC2024_Test',\n",
    "    'hashes',\n",
    "    'test_1.zip.pgp'\n",
    "    )\n",
    "\n",
    "saved_challenge2 = os.path.join(\n",
    "    '.',\n",
    "    'challenge_files',\n",
    "    'CMIYC2024_Test',\n",
    "    'hashes',\n",
    "    'test_1.zip'\n",
    "    )\n",
    "\n",
    "# Not saving the results into a variable since it's a zip and I don't have time to include\n",
    "# a python zip extractor into this framework\n",
    "decrypt_challenge_files(\n",
    "    challenge_file,\n",
    "    \"&<J>n+MfiY(~Zfg6$:u{t8[&Vh*>iWN;Oo6N;DJ,\",\n",
    "    attachment_filename=saved_challenge2\n",
    "    );"
   ]
  },
  {
   "cell_type": "markdown",
   "id": "6e5b942b-6d8f-405b-9ebb-c9df4f5a7245",
   "metadata": {
    "editable": true,
    "slideshow": {
     "slide_type": ""
    },
    "tags": []
   },
   "source": [
    "### Unzip the Zipped Challenge Files\n",
    "\n",
    "You should have a test_1.zip file in your hashes directory now. You'll need to manually unzip it and copy the challenge files into the hashes directory. \n",
    "\n",
    "**Oh wait! The zip itself is password protected. I guess we need to crack that as well :)**\n",
    "\n",
    "What you'll really need to do is extract the password hash from the encrypted zip file. Luckily I wrote a blog post on how to do this for multiple different file types, so you can reference it during the contest. Here is the link: [https://reusablesec.blogspot.com](https://reusablesec.blogspot.com/2023/11/jupyter-lab-framework-example.html)\n",
    "\n",
    "Using the John the Ripper Zip2John extension (and specifying the full file path for the zip file and the output since I don't know where you installed JtR), you can use the following command to extract the hash:\n",
    "\n",
    "`zip2john test_1.zip >> test1.hash`\n",
    "\n",
    "### A Brief Side-Tangent on Having Multiple Jupyter Notebooks for Different Tasks\n",
    "\n",
    "Now here is a point where I'm going to recommend that you do something different than what I'm doing in this Notebook. Registering a team and unpacking contest hashes are really one-time events per contest. Having them in a notebook makes them easy to run and debug which is nice, but as we move on to actually cracking hashes we'll start doing tasks which we'll be repeating a lot. Aka loading up and managing POT files, generating new rulesets, analyzing new cracks. Therefore it will add a lot to your quality of life to put those tasks in a different Notebook from the previous one-time \"setup\" tasks. That way when you reload your crack management notebook you won't have to re-run these one-time tasks that no longer matter.\n",
    "\n",
    "Now I'm not going to do that since this is more of a tutorial, and splitting up a tutorial into multiple Notebooks will make it easeir to follow and learn from. But just keep that in mind as you set up your own cracking sessions."
   ]
  },
  {
   "cell_type": "markdown",
   "id": "ee825d8e-76c3-4240-a6fb-6a4bbb43d348",
   "metadata": {},
   "source": [
    "### Creating a Config File for the Password Cracking Framework\n",
    "\n",
    "As we move on to actually cracking passwords, we need to create a config file so that SessionMgr of the Framework will have information about what hash files it needs to load, where to store log files, what is the contest point value for different hash types, etc.\n",
    "\n",
    "What I normally do for this is copy/paste a previoius config I was using and update the hash info. There is an example copy of this that I've invluded as **/challenge_files/CMIYC2024_Test/config.yml**\n",
    "\n",
    "Here are a couple of areas that you will need to update:\n",
    "\n",
    "**Location of Main Potfile and Logs**\n",
    "```\n",
    "  jtr_config:\n",
    "    main_pot_file: \"./challenge_files/CMIYC2024_Test/jtr_cmiyc2024.pot\"\n",
    "    log_directory: \"./challenge_files/CMIYC2024_Test/\"\n",
    "  \n",
    "  hashcat_config:\n",
    "    main_pot_file: \"./challenge_files/CMIYC2024_Test/hc_cmiyc2024.potfile\"\n",
    "    log_directory: \"./challenge_files/CMIYC2024_Test/\"\n",
    "```\n",
    "\n",
    "**Values to Assign Cracked Hashes**\n",
    "\n",
    "**Note**: This is taken from the KoreLogic scoreboard\n",
    "```\n",
    "  score_info:\n",
    "    bcrypt: 16777215\n",
    "    md5crypt: 65535\n",
    "    nsldaps: 255\n",
    "    raw-md5: 1\n",
    "```\n",
    "\n",
    "**Files to Load Password Hashes From**\n",
    "\n",
    "The big question is what format the file is saved as. Common ones in the past have been:\n",
    "1. \"plain_hash\" which is just a list of hashes with no metadata associated with them. All the hashes in the list are of the same type, defined in \"type\".\n",
    "2. \"mixed_list_with_usernames\". This is a more complicated one. Basically all the hashes have usernames which need to be parsed and associated with them. Also there are multiple types of hashes that can be found in the file, defined by \"hash_types\". If you are wondering how to figure out what hash_types are in the file, well that's part of the challenge usually :P\n",
    "\n",
    "As for the other fields, \"source\" is helpful since that's saved with the hash metadata to say where the hash came from. This is important as different challenge files often require unique attacks.\n",
    "```\n",
    "  challenge_files:\n",
    "    test1_zip:\n",
    "      file: \"./challenge_files/CMIYC2024_Test/hashes/test1.hash\"\n",
    "      format: \"plain_hash\"\n",
    "      type: \"pkzip\"\n",
    "      source: \"test_zip\"\n",
    "    test1_list:\n",
    "      file: \"./challenge_files/CMIYC2024_Test/hashes/test_1_passwd.hash\"\n",
    "      format: \"mixed_list_with_usernames\"\n",
    "      hash_types:\n",
    "        - bcrypt\n",
    "        - md5crypt\n",
    "        - nsldaps\n",
    "        - raw-md5\n",
    "      source: \"test_list\"\n",
    "```\n"
   ]
  },
  {
   "cell_type": "code",
   "execution_count": 7,
   "id": "0ee943bf-e3cf-4d82-b605-2491992f9832",
   "metadata": {
    "editable": true,
    "slideshow": {
     "slide_type": ""
    },
    "tags": []
   },
   "outputs": [
    {
     "name": "stdout",
     "output_type": "stream",
     "text": [
      "Starting to load challenge file: ./challenge_files/CMIYC2024_Test/hashes/test1.hash. This may take a minute or two\n",
      "Done loading the challenge file.\n",
      "Starting to load challenge file: ./challenge_files/CMIYC2024_Test/hashes/test_1_passwd.hash. This may take a minute or two\n",
      "Done loading the challenge file.\n"
     ]
    }
   ],
   "source": [
    "from lib_framework.session_mgr import SessionMgr\n",
    "\n",
    "config_file = os.path.join(\n",
    "    '.',\n",
    "    'challenge_files',\n",
    "    'CMIYC2024_Test',\n",
    "    'config.yml'\n",
    "    )\n",
    "\n",
    "sm = SessionMgr(config_file)"
   ]
  },
  {
   "cell_type": "markdown",
   "id": "6061f94a-0f02-4284-9262-4cb394d16cdc",
   "metadata": {
    "editable": true,
    "slideshow": {
     "slide_type": ""
    },
    "tags": []
   },
   "source": [
    "### Checking Your Progress\n",
    "\n",
    "The next command tells you what your cracked/uncracked percentage is which can help identify which hash types you should target next."
   ]
  },
  {
   "cell_type": "code",
   "execution_count": 8,
   "id": "39f8ccd3-0d77-465c-b4ad-81ff3f2c1961",
   "metadata": {},
   "outputs": [
    {
     "name": "stdout",
     "output_type": "stream",
     "text": [
      "Algorithm      :Total     :Cracked   :Remaining :Percentage\n",
      "pkzip          :1         :0         :1         :0%\n",
      "raw-md5        :1         :0         :1         :0%\n",
      "nsldaps        :1         :0         :1         :0%\n",
      "md5crypt       :2         :0         :2         :0%\n",
      "bcrypt         :1         :0         :1         :0%\n"
     ]
    }
   ],
   "source": [
    "sm.print_status()"
   ]
  },
  {
   "cell_type": "markdown",
   "id": "9077e28f-3ad2-438a-9cb2-83693c8a6c01",
   "metadata": {},
   "source": [
    "### Checking Your Score\n",
    "\n",
    "You can also check your score using the following command. This is helpful since it should \"roughly\" match what KoreLogic displays as long as you have submitted all of your cracked hashes. If there is a difference in scores, that can tell you something weird is going on so you can look into it."
   ]
  },
  {
   "cell_type": "code",
   "execution_count": 9,
   "id": "25bd63ee-dab5-4794-b23c-a2a0c06785e8",
   "metadata": {},
   "outputs": [
    {
     "name": "stdout",
     "output_type": "stream",
     "text": [
      "Hash Type:     Value Per Crack:    Points Earned:      Total Possible Points:\n",
      "pkzip          No Score Defined    0                   0\n",
      "raw-md5        1                   0                   1\n",
      "nsldaps        255                 0                   255\n",
      "md5crypt       65535               0                   131070\n",
      "bcrypt         16777215            0                   16777215\n",
      "\n",
      "Total Score: 0\n",
      "Maximum Possible Score: 16908541\n"
     ]
    }
   ],
   "source": [
    "sm.print_score()"
   ]
  },
  {
   "cell_type": "markdown",
   "id": "5a3e0cfc-e4de-48ff-aa64-0bc9b1098a7a",
   "metadata": {
    "editable": true,
    "slideshow": {
     "slide_type": ""
    },
    "tags": []
   },
   "source": [
    "### Displaying Tool Flags for Tracking Cracking Sessions\n",
    "\n",
    "The following commands highlight command line flags you should pass in to your password cracking programs (aka JtR and HC) to make sure that logs and pot files are saved in the locations this framework is configured to look for them"
   ]
  },
  {
   "cell_type": "code",
   "execution_count": 10,
   "id": "468423a3-af32-484a-bc48-6d79609ff2cb",
   "metadata": {},
   "outputs": [
    {
     "name": "stdout",
     "output_type": "stream",
     "text": [
      "hashcat -o ./challenge_files/CMIYC2024_Test/hc_cmiyc2024.potfile --debug-file ./challenge_files/CMIYC2024_Test/hc_session --debug-mode 5 -p ':'\n",
      "john --pot=./challenge_files/CMIYC2024_Test/jtr_cmiyc2024.pot --session=./challenge_files/CMIYC2024_Test/jtr_session\n"
     ]
    }
   ],
   "source": [
    "sm.hc.print_command();\n",
    "sm.jtr.print_command();"
   ]
  },
  {
   "cell_type": "markdown",
   "id": "95c8a14e-796f-4dc4-ba7a-7d2063427141",
   "metadata": {},
   "source": [
    "### Displaying Hash Format/Types\n",
    "I'll admit, I never remember the John the Ripper and Hashcat Format/Types for targeting specific Hashes so I'm always looking back at my notes or at their help files when running new cracking sessions. So I created a command to print them out in this framework to make it easy to look up."
   ]
  },
  {
   "cell_type": "code",
   "execution_count": 11,
   "id": "453e3d06-1e40-4f73-a79b-40da8ca079c3",
   "metadata": {},
   "outputs": [
    {
     "name": "stdout",
     "output_type": "stream",
     "text": [
      "Algorithm      :Num Remaining   :JtR Format      :HC Type\n",
      "pkzip          :1               :pkzip           :17200\n",
      "raw-md5        :1               :raw-MD5         :0\n",
      "nsldaps        :1               :Salted-SHA1     :111\n",
      "md5crypt       :2               :md5crypt        :500\n",
      "bcrypt         :1               :bcrypt          :3200\n"
     ]
    }
   ],
   "source": [
    "sm.print_attack_formats()"
   ]
  },
  {
   "cell_type": "markdown",
   "id": "04979a06-20c8-43ea-a400-6da83d3bd5b0",
   "metadata": {},
   "source": [
    "### Now Let's Crack Some Hashes\n",
    "\n",
    "**Enough talk! More Cracking!**\n",
    "\n",
    "The next step is to actually go about cracking the password hashes. There's a lot of ways to go about doing this, and I've published some of the ones that work for me in previous blogposts on [reusablesec.blogspot.com](reusablesec.blogspot.com). The key is to actually sit down and run some cracking sessions. To look at some unstructured \"Eh I want to run something while coding and not think about it too much\" attacks I ran you can see the sessions extracted from my JtR logfile below. I'm not proud of these attacks, but at least some of them worked.\n",
    "\n",
    "**Disclaimer**: I commented this out as the log file was getting much bigger than I really wanted to upload to this repo. I'll need to clean it up and upload it later this week."
   ]
  },
  {
   "cell_type": "code",
   "execution_count": 12,
   "id": "9ef5a95d-3545-4a98-a715-a69edbbb0b92",
   "metadata": {
    "editable": true,
    "scrolled": true,
    "slideshow": {
     "slide_type": ""
    },
    "tags": []
   },
   "outputs": [],
   "source": [
    "# Read all the logfiles stored in the directories specified in the config file\n",
    "# If you ran your cracking programs using the command lines specified\n",
    "# above this \"should\" work\n",
    "\n",
    "# Note for some JtR logs that can be quite big this can take a long time. So you may occasionally\n",
    "# want to comment out this if you are repeatedly running this Notebook.\n",
    "#sm.read_all_logs();\n",
    "\n",
    "#sm.print_log_sessions()"
   ]
  },
  {
   "cell_type": "markdown",
   "id": "fc98201c-a96f-41a1-aecf-4170e560db45",
   "metadata": {
    "editable": true,
    "slideshow": {
     "slide_type": ""
    },
    "tags": []
   },
   "source": [
    "### Updating Potfiles\n",
    "\n",
    "The following command will then load cracked passwords from your sessions back into the framework for analysis. You can repeatedly re-run that cell and then re-run other analysis cells to update them as you continue to crack more passwords. For example, you'll likely notice the scores above don't reflect your cracks when you first run this Notebook since we hadn't loaded the potfiles first when displaying them. If you re-run that cell after loading the pots below the score should update to show the hashes you have cracked.\n",
    "\n",
    "Note: The ServiceMgr.update_main_pots() will sync your potfiles between John the Ripper and Hashcat. This isn't 100% tested, so for the competition it may be worthwhile to periodically create backups of your potfiles."
   ]
  },
  {
   "cell_type": "code",
   "execution_count": 13,
   "id": "18686d01-bedc-495a-bb34-09f971872175",
   "metadata": {
    "editable": true,
    "slideshow": {
     "slide_type": ""
    },
    "tags": []
   },
   "outputs": [
    {
     "name": "stdout",
     "output_type": "stream",
     "text": [
      "Number of new plains added to the JtR pot file: 0\n",
      "Number of new plains added to the Hashcat pot file: 0\n"
     ]
    }
   ],
   "source": [
    "sm.load_main_pots(verbose=False, update_only=True);\n",
    "sm.update_main_pots();"
   ]
  },
  {
   "cell_type": "markdown",
   "id": "1b07e4fe-6478-4aed-b648-413c23ad2469",
   "metadata": {},
   "source": [
    "### Analyzing The Results\n",
    "\n",
    "As of this writing I've cracked 3 of the 6 password hashes, (though the zip one doesn't count for points). The first two hashes I cracked were with the default JtR ruleset (Single Mode + password.lst). The zip password was cracked with a specialty wordlist. So what were those passwords and how did I create that specialty wordlist? Let's look into that..."
   ]
  },
  {
   "cell_type": "code",
   "execution_count": 14,
   "id": "7cf3c52b-6f49-4cc5-902b-5148f60b181f",
   "metadata": {
    "editable": true,
    "slideshow": {
     "slide_type": ""
    },
    "tags": []
   },
   "outputs": [
    {
     "name": "stdout",
     "output_type": "stream",
     "text": [
      "HASH TYPE: pkzip ----------------------------------------------------------\n",
      "Plaintext\n",
      "When everything happens\n",
      "HASH TYPE: raw-md5 ----------------------------------------------------------\n",
      "Plaintext\n",
      "3-2-1\n",
      "HASH TYPE: nsldaps ----------------------------------------------------------\n",
      "Plaintext\n",
      "Contact\n",
      "HASH TYPE: md5crypt ----------------------------------------------------------\n",
      "Plaintext\n",
      "<No Cracked Hashes Exist For This Category>\n",
      "HASH TYPE: bcrypt ----------------------------------------------------------\n",
      "Plaintext\n",
      "I am a computer at Bell Laboratories and I am learning to talk.\n"
     ]
    }
   ],
   "source": [
    "sm.print_all_plaintext()"
   ]
  },
  {
   "cell_type": "markdown",
   "id": "a7cc78b6-405c-4a1b-86a6-abc0bb20ee57",
   "metadata": {},
   "source": [
    "### Continuing the Analysis (How to crack the pkzip file)\n",
    "\n",
    "I'll admit, the output format isn't great. That's something that I'll hopefully work on later but it certainly won't be done for this competition. But you can see that we cracked two easy hashes with the plaintext:\n",
    "- 3-2-1\n",
    "- Contact\n",
    "\n",
    "If you are an American Gen-Xer or older you may remember that \"3-2-1 Contact\" was an amazing PBS show back in the day. Minga, the organizer of this conference is an American Gen-Xer and has a preference for old songs. So maybe a wordlist from the theme song might be helpful. Here is a site where we can create that wordlist:\n",
    "\n",
    "[3-2-1 Contact Songs](https://www.sitcomsonline.com/boards/archive/index.php/t-123444.html)\n",
    "\n",
    "Using that wordlist I was able to crack the zipfile password which was one of the lyrics: **When everything happens**\n",
    "\n",
    "**Disclaimer/Acknowledgement**: I'd like to think that I'd have figured this out on my own, but Ivan from team John_Users figured it out first. That's part of the reason why I'm planning on compeating on a streat team instead of with John_Users. I want to force myself to try and figure everything out on my own vs. relying on the really smart people on that team."
   ]
  },
  {
   "cell_type": "markdown",
   "id": "67ac2366-5eef-4e9a-9846-fbbacd183953",
   "metadata": {
    "editable": true,
    "slideshow": {
     "slide_type": ""
    },
    "tags": []
   },
   "source": [
    "### Cracking User5's Password\n",
    "\n",
    "Once you unzip the file using the cracked passphrase you will find a note that says the following:\n",
    "___\n",
    "```\n",
    "Do not submit the zip passphrase, it is not worth anything.\n",
    "\n",
    "user5's password is the sentence spoken by the synthesized voice\n",
    "introducing itself in episode 101.\n",
    "```\n",
    "___\n",
    "We can view all hashes for a particular metadata field, such as the \"username\" by using the ServiceMgr.create_left_list() function.\n",
    "\n",
    "**Note**: I just realized that the create_left_list() will not return anything if you have already cracked the password (since it goal is to create a list of hashes you haven't cracked yet). I'll need to look into creating a better way to show that in these writeups. My apologies. You can always delete user5's entry from your potfile to see this example's normal output."
   ]
  },
  {
   "cell_type": "code",
   "execution_count": 15,
   "id": "34969cd1-a6d3-443d-9a6f-d3749b1e0052",
   "metadata": {},
   "outputs": [],
   "source": [
    "sm.create_left_list(format=\"jtr\", filter={\"username\":\"user5\"});"
   ]
  },
  {
   "cell_type": "markdown",
   "id": "7dcd76cd-970f-44a3-89e2-bee30f572f68",
   "metadata": {},
   "source": [
    "### Cracking User5's Bcrypt\n",
    "\n",
    "Of course the hard hash is the Bcrypt one! The good news is now I have an excuse to watch old PBS shows. If KoreLogic makes us watch awsome content like this for the contest I won't complain. It's better than listening to Led Zepplin songs!\n",
    "\n",
    "Here is a link to the episode: [3-2-1 Contact Episode 101](https://archive.org/details/3-2-1-contact-very-first-episode-1980-noisyquiet-production-processing-of-sound-episode-101)\n",
    "\n",
    "The text in question is: \"I am a computer at bell laboratories and I am learning to talk\"\n",
    "\n",
    "It's pretty easy to throw that in a wordlist and try to crack the password. But, it doesn't work.... So there obviously is something wrong with the phrase. Maybe it is capitalization?\n",
    "\n",
    "One option is to apply passphrase mangling rules from [Passphrase Cracking](https://github.com/initstring/passphrase-wordlist). Besides common passphrase mangling rules this site also has a huge collection of passphrases which is nice for normal cracking session. It'll create mangling rules that generate guesses like:\n",
    "\n",
    "```\n",
    "take the red pill\n",
    "take-the-red-pill\n",
    "take.the.red.pill\n",
    "take_the_red_pill\n",
    "taketheredpill\n",
    "Take the red pill\n",
    "TAKE THE RED PILL\n",
    "tAKE THE RED PILL\n",
    "Taketheredpill\n",
    "tAKETHEREDPILL\n",
    "TAKETHEREDPILL\n",
    "Take The Red Pill\n",
    "TakeTheRedPill\n",
    "Take-The-Red-Pill\n",
    "Take.The.Red.Pill\n",
    "Take_The_Red_Pill\n",
    "```\n",
    "\n",
    "Unfortunatly this didn't work either. I'll admit this was an area where Ivan from team John_Users also beat me to it. I needed to capititalize Bell Laboratories, and then add a period at the end. That's some of the gotchas that can get you when cracking passwords, and shows I need to up my passphrase mangling rules in the next couple of days!"
   ]
  },
  {
   "cell_type": "markdown",
   "id": "bc1456d9-da55-4618-b70a-ad09e39d8b9b",
   "metadata": {
    "scrolled": true
   },
   "source": [
    "### Submitting your cracks\n",
    "\n",
    "This is very much a work in progress part of the Framework, but I'm putting together some helper functions to aid in creating lists to submit to Korelogic. The tricky part is you are not supports to submit the same cracks multiple times, so you need to keep track of what you've submitted previous. The main class to handle this is the **SubMgr**. It will parse through your hash_lists in SessionMgr, and create a list of hash/plaintexts to submit to Korelogic. It'll also help validate confirmation e-mails from KoreLogic, as well as write the successfully submitted hashes to disk so that you can reload this Framework and not have to worry about losing your position."
   ]
  },
  {
   "cell_type": "code",
   "execution_count": 21,
   "id": "48c8ffba-283b-4d29-88f1-901a3f2cf6c2",
   "metadata": {},
   "outputs": [],
   "source": [
    "from lib_framework.submission_mgr import SubmissionMgr\n",
    "\n",
    "success_file = os.path.join(\n",
    "    '.',\n",
    "    'challenge_files',\n",
    "    'CMIYC2024_Test',\n",
    "    'success_file.sav'\n",
    "    )\n",
    "\n",
    "submission_file_prefix = os.path.join(\n",
    "    '.',\n",
    "    'challenge_files',\n",
    "    'CMIYC2024_Test',\n",
    "    'sub_backup'\n",
    "    )\n",
    "\n",
    "sub_mgr = SubmissionMgr(success_file, submission_file_prefix, sm.hash_list)"
   ]
  },
  {
   "cell_type": "markdown",
   "id": "1d7ea475-9958-48e9-98e5-57c9632c0b6a",
   "metadata": {
    "scrolled": true
   },
   "source": [
    "### Create the list of hashes:plaintext to submit\n",
    "The following command will return a string formatted to submit to Korelogic. It'll also create a copy of the plaintext version of this (not encrypted via PGP) to disk to aid in troubleshooting if something goes wrong. You can then feed it into the PGPMgr.encypt_msg() function to create a file to actually submit to KoreLogic. "
   ]
  },
  {
   "cell_type": "code",
   "execution_count": 22,
   "id": "9bb3c710-bcde-486b-b292-2709e2bdff1d",
   "metadata": {
    "scrolled": true
   },
   "outputs": [
    {
     "name": "stdout",
     "output_type": "stream",
     "text": [
      "-----BEGIN PGP MESSAGE-----\n",
      "\n",
      "wcBMA3EnRIyYyGY/AQf9HEvSFEJSaXrjl+Mvr4+V9ghnNHO0iCzMSmYdoF5Baqld\n",
      "CdzCxHiBeZZGwjSZ1WAIEEgHZeepkEFhg8cygN9hdS6NV7n7f5Tor2VSuTYW/rVJ\n",
      "OkQGmy9ckS3fwau/kJ/jycGY65FuVFhOUkyHGxPawb2qgcWU8qDLgAtSN+u2Nh+Q\n",
      "GkyNRw2m5eouNsjSTpAzHzLOo/kut1/83qigjktbY4tHv7AMrswjKvnbg26nXrKI\n",
      "FtA5sv4PgFd99YzG9T6RkanK4Q9n82yQ5/ry1TT8pYdBl6YWtktcAWEPiKKgZo3s\n",
      "P2z9Pk0BTrJBm1GHOQrUTfSju0GoooeGyzVtjsOxyNLBvwFU6zv5THSpweWWADMu\n",
      "pwED4a1w8Kvz3/NKbB6Xv86mId6xVnwCjzrQVPCnc0RmAGsTBNVqaEAJKMP4XHZ7\n",
      "82BUgrb25j/S69keyJ9SJeQN5COssoBEd67WjIUK9s6X7i0S8dOtuhc88DUorCig\n",
      "94Y6hoR8Bvc01FUMHUx8QEkO62kkDYVO/upR0fi2hcalslR/Ut5Vfwci61+9oqVV\n",
      "8Ri+AI5G/nbJl53pYzfwu6k417qD36gdDVzyq2nIvfhFp50R4tL+n3BjX94PNmIs\n",
      "49euqNb/N6wZPMlWxp03Tx1S0Uc532C+OONIonRS5T+D5ZR4yQA/VafjTWAPSK53\n",
      "4vVNFCqSalAsdweG2EL0yvVDq+jf1OiuUM+PihbYsEjqaZdaMj6Ym+zSyE7kwoKj\n",
      "UnaBl/eq/y6UEanovfvgMkEx/YTp2sW0lt6katYZpFOFatxe+WtuqhA2LzkD6GYa\n",
      "EehYzCIYdrFi7XDWR9v4ZlpJe+uuqV3LRMNBkKY0/Hmirso6ifPlXvEhce1/neU6\n",
      "1Bx7Vm+NXd38xmkUzogBtPKGwf07nJtp+L/RCO6THA7VjsHsgf9K4l0aHGhfBjzh\n",
      "isaNiUEQQGKM87J+3nEnFWCJ2nvsd3eTx1r9GzVmqHc/df310OqQR6vRRX5fS2RG\n",
      "uDIEdOUDqIZ1gE7oQI+eKT6lHeRwdOKxP+DJadkCX96DGLyiEw+XmnYdBxwxaapB\n",
      "ifyZbXZvqmZsGJgUuJj7qne2NSWlaQUdIJDAbEHpUR6JRUEVaSNKpfDIjv0Kw++p\n",
      "v+/0/eZ9Fjh6RYRd2SnXA+aNmf1qE2ygrZUsFRlwC8OZtggO0SjjynjRAn9f9vhV\n",
      "Cw==\n",
      "=nO/g\n",
      "-----END PGP MESSAGE-----\n",
      "\n"
     ]
    }
   ],
   "source": [
    "# Used to save the PGP message\n",
    "first_sub_msg = os.path.join(\n",
    "    '.',\n",
    "    'challenge_files',\n",
    "    'CMIYC2024_Test',\n",
    "    'first_submit.asc'\n",
    "    )\n",
    "\n",
    "# Create the submission and encrypt it\n",
    "pgp_mgr.encrypt_msg(sub_mgr.create_submission(sm.hash_list), attachment_filename=first_sub_msg);"
   ]
  },
  {
   "cell_type": "markdown",
   "id": "13af5ff7-7792-4e26-92c9-c8922a700078",
   "metadata": {},
   "source": [
    "### Processing the Submission Response from KoreLogic\n",
    "Korelogic will send you an encrypted e-mail saying if there was any problem with your submission. You can decrypt it using the **PGPMgr.decrypt_msg()** function:"
   ]
  },
  {
   "cell_type": "code",
   "execution_count": null,
   "id": "1342a364-2cfa-4465-b70a-971e5f3a931f",
   "metadata": {},
   "outputs": [
    {
     "name": "stdout",
     "output_type": "stream",
     "text": [
      "Submission processing results:\n",
      "\n",
      "Timestamp: 2024-08-04_03:21:28 GMT\n",
      "New cracks: 3\n",
      "  Lines received: 3\n",
      "  Well-formed: 3\n",
      "  Repeats from previous submissions: 0\n",
      "\n",
      "\n"
     ]
    }
   ],
   "source": [
    "korelogic_sub_response = os.path.join(\n",
    "    '.',\n",
    "    'challenge_files',\n",
    "    'CMIYC2024_Test',\n",
    "    'korlogic_sub_response.asc'\n",
    "    )\n",
    "sub_response = pgp_mgr.decrypt_msg(korelogic_sub_response)"
   ]
  },
  {
   "cell_type": "markdown",
   "id": "b1c749de-3837-45d4-93dc-91247c53244e",
   "metadata": {},
   "source": [
    "### Validating Your Submission\n",
    "When you submit cracks using this framework, it marks them \"in progress\". It doesn't actually count that they are submitted until you pass it back the submission response. This is because I want you to be able to catch any weirdness or problems with your submissions. You certainly don't want to go through all the pain of cracking a hash only and not get credit for it! The SubMgr.validate_submission() function also has a flag called **force** which will ignore any errors/discrepencies and acknowledge the results since the class will not let you create another submission until all current \"in progress\" hashes have been finalized. I did this since it's easy to accidently run these functions multiple times and I want to make sure you don't miss out on sending a submission e-mail. But if things get \"wonky\" the **force** option can help you get back on track after any manual fixes (such as submitting the hashes yourself without using this framework."
   ]
  },
  {
   "cell_type": "code",
   "execution_count": null,
   "id": "e397f4cc-061a-429e-83fe-e924f1cf88ba",
   "metadata": {},
   "outputs": [
    {
     "name": "stdout",
     "output_type": "stream",
     "text": [
      "It looks like this acknowledgment is for an older submission than the current one\n",
      "Skipping this acknowledgement\n"
     ]
    }
   ],
   "source": [
    "# Note, set force=True to ignore warnings and acknowledge all in-progress submissions\n",
    "# I don't recommend this, but it can help if things get wonky\n",
    "sub_mgr.validate_submission(sub_response, sm.hash_list, force=False);"
   ]
  },
  {
   "cell_type": "code",
   "execution_count": null,
   "id": "cbc5ebf0-3529-4b56-bf09-7caed7655e31",
   "metadata": {},
   "outputs": [],
   "source": []
  }
 ],
 "metadata": {
  "kernelspec": {
   "display_name": "Python 3 (ipykernel)",
   "language": "python",
   "name": "python3"
  },
  "language_info": {
   "codemirror_mode": {
    "name": "ipython",
    "version": 3
   },
   "file_extension": ".py",
   "mimetype": "text/x-python",
   "name": "python",
   "nbconvert_exporter": "python",
   "pygments_lexer": "ipython3",
   "version": "3.8.10"
  }
 },
 "nbformat": 4,
 "nbformat_minor": 5
}
