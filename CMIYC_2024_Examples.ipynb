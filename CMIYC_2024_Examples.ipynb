{
 "cells": [
  {
   "cell_type": "markdown",
   "id": "f898a2ae-0815-4b28-944b-756c9350ac15",
   "metadata": {},
   "source": [
    "<img src=\"./images/cmiyc2024_test.webp\" alt=\"A kitten with a tophat at a computer. Aka JtR + H\" width=\"800\"/>\n",
    "\n",
    "# Cracking CMIYC 2024 Test Hashes\n",
    "\n",
    "**GETTING READY FOR CMIYC 2024!!!!**\n",
    "\n",
    "### Overview\n",
    "\n",
    "The goal of this notebook is to make it easy as possible for you to get a team registered and ready to participate in CMIYC. I'm hopefull I'll be updating it a lot running up to the contest, so I'd recommend using this as an example, but creating your own notebook to manage your teams cracking sessions.\n",
    "\n",
    "### Major Features and Training Goals\n",
    "\n",
    "1. How to register a team with CMIYC\n",
    "2. TBD. Still need to work on this --Lakiw\n",
    "\n"
   ]
  },
  {
   "cell_type": "markdown",
   "id": "88695c29-552d-4616-84ed-cafb765a90e9",
   "metadata": {},
   "source": [
    "### Creating a PGP Key (If Needed)\n",
    "\n",
    "Let's face it. PGP is a pain, and you don't want to have to try and figure it out during the contest. But all communicaiton with the organizers (KoreLogic) need to be done via PGP encrypted messages. This includes creating a team and submitting hashes. To make this easier, I created some functions to help using the Python3 **pgpy** library.\n",
    "\n",
    "The first function is **generate_read_pgp_private_key**. This will create a new PGP key (if one does not already exit) and write it to the key_file name that you send to it. If a PGP key already exists it'll validate the key and then return it. This way you aren't creating a new key every time this is run."
   ]
  },
  {
   "cell_type": "code",
   "execution_count": 1,
   "id": "9a84553f-4a17-4f2b-8a45-39f629d1cbdd",
   "metadata": {},
   "outputs": [],
   "source": [
    "from lib_framework.pgp_mgr import generate_read_pgp_private_key\n",
    "\n",
    "import os\n",
    "import sys\n",
    "\n",
    "key_file = os.path.join(\n",
    "    '.',\n",
    "    'challenge_files',\n",
    "    'CMIYC2024_Test',\n",
    "    'pgp_key.asc'\n",
    "    )\n",
    "\n",
    "my_private_key = generate_read_pgp_private_key(key_file, email_address=\"YOUR_EMAIL_ADDRESS\", team_name=\"YOUR_TEAM_NAME\")"
   ]
  },
  {
   "cell_type": "markdown",
   "id": "4b929829-b605-44dd-b7b8-b5075de34a3a",
   "metadata": {},
   "source": [
    "### Creating a Registration Email\n",
    "\n",
    "To make it easier to encrypt/decrypt messages I created the **PGP_Mgr** class. I figured a class would be better than having individual functions since I didn't want to have to keep passing in my private key as well as KoreLogic's public key.\n",
    "\n",
    "While I could try to integrate this with individual e-mail services, that seems like a lot of work so PGP_Mgr will output encrypted messages to this workbook. It's up to you then to actually copy/paste that message into an e-mail and send it to KoreLogic at sub-2024@contest.korelogic.com\n",
    "\n",
    "Note, the register_team function will both print the message to your screen as well as return the message. Given the way JupyterLab displays newlines in returned messages I'd recommend hiding the return value using the **\";\"** at the end of the function call, and copy/pasting the printed version."
   ]
  },
  {
   "cell_type": "code",
   "execution_count": 2,
   "id": "74ef6911-defa-4b5c-82f0-46ef2bd14bd8",
   "metadata": {
    "scrolled": true
   },
   "outputs": [
    {
     "name": "stdout",
     "output_type": "stream",
     "text": [
      "-----BEGIN PGP MESSAGE-----\n",
      "\n",
      "wcBMA3EnRIyYyGY/AQf/baw++S7jPaXGjSLjEyYBADtDCKFjDYLXaxtqfOhghqb6\n",
      "r7xysMatGAE6wPkgZngGHV3lXdG+t74MLG/PkPngZJip5XE+y/4ifq5mXFkauyni\n",
      "i1dR2G2eLKzKaZtQjdnGvNmyC2akgXiEmGCjr3PoXCOK3IBpnNvUjiLrEI+vytBX\n",
      "X/AWA0YJ6JTeLhKsvnd9xsWRPSCJxxB2oTHBAvDVR2tTJcQNCEGVijyUR2e3mJ+q\n",
      "fzvLBya5ltU3teCmE8QQL6v7CNJBfwgXGp1B8/OVraUnZdR1KQslZYF+BnON1Pen\n",
      "v/STILiBZEEkJY3zqLfbB+Wmby44HCE5j2CzT7HMOdLHWQH7BUT6NQLUyWDdXuHK\n",
      "zmnYu9xoDbGxjYhCJHKzLZsk0s9kaO6cOA1El/C6ezqCxgKRsz7d9mL8Nt+V++5S\n",
      "akQRoort7GgHkQ27w7hGxhgc6s5RPJn1nCLLrZub39RBpPmAvxd+RVoigEDC5yVH\n",
      "fSSOgJAsT4y+XbS9zEpMmDLOO+KbU9vOHXANvKl3dVXAEoNnar5hZuhBuHEZlZcJ\n",
      "ArJkpBO3Lo1oEubQTlHOmW1Bn/Ehng8GI5ymrWp+FkK8IZZeTR/vpjgUD6OEDYxs\n",
      "SoBuKj9v0bduSDgSVHxYE84C1w8GAqlDsXQIOhDyu9XqlU9LSBd+zosY8F8u8dKY\n",
      "0JUQ7ztW696tagKcIgKmLsw7dCWjoinWfJ1RQ3XxlA6VgUXUl7RUUtH4bI70xN75\n",
      "gdvcA61UGkawd2a5Die2OGs/R7ifiOkllHTXTWqDn0t9sHaVOM46EouSihZmJob/\n",
      "okEp+lOFhnXiyHF+HpA39he+bPGvD9lCv7aW2Ly/IlN4E92Ihfjd2dDsMJI//ItF\n",
      "PpXy50DPP1pIkUYTV61yqdJDqVx2RQYCKJM2kxtRm/9QcGODDG76/brZ14AWzdze\n",
      "RK+v4RLmoKYadg5/xPQJzCd2O3J29SYsYoTR1Bn7aZaRNfoY5v17o9OuvHIrDEOl\n",
      "N0Zbh/EfhUv4+4+ColIUx1WBuiIQTQvFr6jTHodKrbvmeup6VYzWiPJL13RgdN0Z\n",
      "yywMJQwDGrGfzfcWZiDdtMlnQoTm/WpY1J5RFjSUcjZJuO3HfQ+RFZRI5wDz9wOu\n",
      "yCW1gxmJorZQ/MhERlRuXvm962MrJCWTl0wqMa76KilJHu9pWtArbrTh3P9gpN8v\n",
      "3iRNvnwIc0kMwuDe5/+lUpEiqCxTDZninlnZGamqybSPoqUevdR0x/oejXcXi29H\n",
      "cv15D2hPi6MVfUok3GmAdopFMi8UCFkrURrZMM0Yt6bmAkYSnz4CCYzJSRoERUsd\n",
      "BqLoKN7PA7pYFYmWFuBKke++85QjfJ5zGgUB1XPf+p7rHxaz3pMe+dgOq9F/VeNk\n",
      "h6nhRkppPBicDXUQ+8VArKNuqgudbV20/bWle8LHgGX/tZa3mnnn0dsLX3lM2nKD\n",
      "mr5aH8nb3gNIIhG1xGhvAJTIgReFk9dKGafHSnmUW6EI/ruvP/X+1MYiRTUrQhQP\n",
      "q6Om1S72WOItkXo7ZiT8gj0IuLVp28Vb+GLBKkrBUu7Xj7j24DK9SwO+xQSC5RWS\n",
      "j5LyBr6piDPnX9MYENcsII34omcdDxcSBjyCnUy3MlP7ism8C8wcfvxUU6qSDbOq\n",
      "OD3TdLafLtsOLLLjd5y6UX8R/3vQ6Jcp7Fsk/vdUBZpOU/pP3fk0pq1MBCzPm4kf\n",
      "zxbg5TKZReCU3Q/zx+s6bXpIH7xQ9UsJL2cvzVZ5fPViQsvBdFJ/sG2MaakswZEm\n",
      "+VdbXuTn3FmvuVVNUUQRuh+qSFuLUCPnp1FLpRgsgZaNT1GITHvbCFyqxxkJTuvk\n",
      "SgyN/Blo/071gC43GwqRiFAfDH6GXB4cGP7RtS+cru2Cx8nr8+rgi1HQZb7l6pzK\n",
      "YDV86GR7BMmERFTIn9DhnGT50Jwo1XXTIvTmTYeKFFbSpQR4J54ANB9yf7qPabiG\n",
      "GIPBjp4bFjtyksmlnkokH0UteHlnvMR/jHjkggu5idCtB9oNgJvKof2PSaQlgCK6\n",
      "zI/p4X6Jx9QVeN4i+OSXapDhYvoPrF0oicpT7XLKYlwhYiSmsdhuLLei9MD/5fCu\n",
      "8h6n12l7oqF/LtKxQD03W+0SUGG2ljDzZdX4ezw/i2kgxUT/mglgDWUUtFrq76aj\n",
      "7PzzyjLXgrrY3ZV44zr4Zj5Tvg2LiOggUZ+S2fAHFsiFIrF4E9hJtjpFDT3tEOyd\n",
      "woFDU2xUajTPEluGepGULOsEBLUNNFGU6yAiMLmp37AKoW2gGN3fRMl+y+lNA0lB\n",
      "a7556yDD05N6UwjUQ4/z4U5YWM0Wo4pJtTZMwtX2pWvJGiJfo38wHMnKPFWzIZIe\n",
      "9C+JVMNqqCRHb0DA4OawXMQwcaVWKMaI2YcPomosDj8Tg6BgCqa5xpx3L+93FT0z\n",
      "Bl/8eteJQHM0n7BVT8nhiyLXSHpqTHZMDSYdFORKAabtZdto2MEvxO4Tc2tLXy4P\n",
      "JXhEgPp7Q5k/KGG4c/19cBsa9sRH+l07djCux+KzJMEODYamEUXegdLSIa2X4J3U\n",
      "iWWqN1H9Co4ERKqGkwL4bfCegXWowfCmuo4OL6M6Ulyem+3lEX9E7Ci20opVPz5F\n",
      "cScmDtC5KPHl/fES1ZYxLacFLpZUSjE5DYhKArnIC6RP+voqWuVh19MHn1zz7Qk3\n",
      "skPkR4229EoMfMfsj6XmRBtotiSf37HNTQeDqe+Alv1r2AftpQjhxYkxHme2iWze\n",
      "4U3C5Zq8qk6+8nUqBihhB3eVAJPudT/DgnMgqh8Fg8hrdxQIHjNxA/TUknm/P11u\n",
      "GoP1oTnWyX+n34xhzINJZyKEfT9wKZng8q5/o/WM3uns0kgEpz1EgNdzN1g9m4BK\n",
      "gkbAWIRULYl0Mlz8Nj1UvxXHNyCdzs9bYApYH6edRGCWZtoBqZP56/6fUu2tPHM2\n",
      "G6GgtdMjKZ3pbcrWfzTK3AjGV7jSLZVCivnkq9gLxDpc6ZwwZ/2R0XuCecHhrp6l\n",
      "D9j2C9w30IojZ7vT0rMtwtHsEh4yf8LnPhr7VlfiJmaSRoUHjdVeVwSpP89O2Y+Y\n",
      "7wg50ndMq3/4Kf0/wUy/WQ+4cTVzUPyEHTrUw9nEI5I09cC+jac6kIiM+Q==\n",
      "=ie35\n",
      "-----END PGP MESSAGE-----\n",
      "\n"
     ]
    }
   ],
   "source": [
    "from lib_framework.pgp_mgr import PGPMgr, read_pgp_key\n",
    "\n",
    "# Load up KoreLogic's submisison public key\n",
    "korelogic_sub_public_key_file = os.path.join(\n",
    "    '.',\n",
    "    'challenge_files',\n",
    "    'CMIYC2024_Test',\n",
    "    'defcon-contest-sub-2024.pub.asc'\n",
    "    )\n",
    "korelogic_sub_public_key = read_pgp_key(korelogic_sub_public_key_file)\n",
    "\n",
    "default_attachment = os.path.join(\n",
    "    '.',\n",
    "    'challenge_files',\n",
    "    'CMIYC2024_Test',\n",
    "    'submission.asc'\n",
    "    )\n",
    "\n",
    "# Create the PGPMgr class\n",
    "pgp_mgr = PGPMgr(my_private_key, korelogic_sub_public_key, default_attachment)\n",
    "\n",
    "# Create Submission e-mail\n",
    "#pgp_mgr.register_team(\"Someone Didn't Update Their Teamname in the JupyterLab Framework by Lakiw\");\n",
    "pgp_mgr.register_team(\"YOUR_TEAM_NAME\");"
   ]
  },
  {
   "cell_type": "code",
   "execution_count": 3,
   "id": "33105772-b6e1-4bcf-98e1-70932943710c",
   "metadata": {},
   "outputs": [
    {
     "name": "stdout",
     "output_type": "stream",
     "text": [
      "Thank you, your key has been successfully confirmed.\n",
      "\n",
      "You can start submitting cracks as soon as the contest has started.\n",
      "\n",
      "Keep an eye on the contest website; we may release some test hashes\n",
      "a few days before the contest, so teams can confirm their submission\n",
      "process works.\n",
      "\n",
      "Don't forget to let us know if you want to compete as a 'Pro' team.\n",
      "\n",
      "\n"
     ]
    }
   ],
   "source": [
    "# Now we need to validate the confirmation e-mail\n",
    "default_attachment = os.path.join(\n",
    "    '.',\n",
    "    'challenge_files',\n",
    "    'CMIYC2024_Test',\n",
    "    'korelogic_comms.asc'\n",
    "    )\n",
    "challenge_response = pgp_mgr.decrypt_msg(default_attachment)"
   ]
  },
  {
   "cell_type": "code",
   "execution_count": 4,
   "id": "e18ef9d9-2619-4291-acfb-1e08686fe5e3",
   "metadata": {},
   "outputs": [
    {
     "name": "stdout",
     "output_type": "stream",
     "text": [
      "-----BEGIN PGP MESSAGE-----\n",
      "\n",
      "wcBMA3EnRIyYyGY/AQf+KOXG+Oxc9G00sy0ZzgfBPcMwW7Wgc1tQXi5A0+Sp0j33\n",
      "8NMAP1caXmVFGUPvD0zXFuyCf8Fdqwew4iSlmO3NE9mSXPeQiRYQcTF5JF2kcirf\n",
      "DjPqPOM7OOZobJWH2kUJnN0kLcSOWCXDMWZSNNmelYoPautOY2XIKOPONBWj+KiO\n",
      "CCTy412ta2GPY/iYe88Kl+fFwFe9DTPFfKbpLjoKR0lg5IThgxMmK1fJ2oTiDdI8\n",
      "pQ34JLfdqQ4++nRr8X3MZaIRo8CR6cKua1EOGV5jzGuZ/2X6SlbfF5Z1E7ncbAXC\n",
      "qFY8VN3PJM1Te2+hTyBd+Xx8O56eAwI3wFx/YIBNJtLC1gFZCk0it7GcVZE6czbp\n",
      "Oovcde5pSAVzv5PIc92C6ebBGIr6tYIof1T0pS9KmmTnVAmxDqHVgmgW4EPjyYp2\n",
      "C0hrJFQFNGCbxhuSquPM4af5BwsirDhtl912qqIN5tn0hXhnReiX75J3TYM/WHqO\n",
      "DFnU+bPSkzqCX1+RieVmpb51ga/e8H/QTCfcL6DO1DvAimmUJZ03u5AmRxUu18BE\n",
      "w/UJd+YfrDhkJBrKC81H+EUE9QvGD28NjxDcnnRFCgxlw+Gwjj17OAUGQ2chEIva\n",
      "R44tGUZI7rGB+320b8M3OsYXIbGN9ebu2hw21KZCbEKzH9Nbcu0p0ptrTq6/5Fqg\n",
      "XC8K3k6TZvkwFfZN76XoRDIdvSGh0Va000laKBeCz30r8JKd/W/CoUY/0kdJa91A\n",
      "03szpQjG9stkGUlJXuUshNgXjPiWDjdJbIL2ZnY/kI+cfxuWOI0fI418CoFSxPJw\n",
      "7jo2YFF4/I/ZKuW8MEERAUluAp3BZz5AZC4iWmWpTGFG5fnroWQeBwumoZ52gH6x\n",
      "nUkNgEEEvWRQtYF6bvwvC8VE/pJ35bNji9xTcOhFmQ4zdtwFjiX9toybJdarlfoj\n",
      "Jlssm/P0sSorqDjdEEguTBQ3YywnvRs24gZtXBLICRSomFVP7M0k99kHIa+Lg1Kr\n",
      "GCpEMDLkEWRI3jtl8MQRKCtESNJ9DJ3z2GV0sbTcQvsVt8NK6F+HLSkh+CLnB0lt\n",
      "0Va6nFGZQRXogbQ7awl9ZTk9bNI+1LFuqOwsMiJdCM7YIUZfF166wIkLVmWI8D4q\n",
      "b9CJqa+F+SXgb2E7RAd5PSNMIKr/zJL0j1teGLig5ZgcKUVsNZ+zbHkTHIMmjwLU\n",
      "0dGt83Nj/fN9hbuhesrBQ9I14A7RNqRR/inUxcI6wdaoPi1UjimWPaZVyLXr7TGx\n",
      "Ws0ni5Q4yvX4/OLqcyYbC9GOeZobQp7vpJneEtTXhJtRRlEFHddadCe5IalHFdXG\n",
      "CHvNsyiHipYpydg7uB4ow1j20kvviV4tLdFPxBZwHRe33wSM64gL2BS1BLg2nJ/z\n",
      "03X3i4HLHBXfYib95VXeus39nEgDCHMsqB7LIHwKOUiJJ1mX/ItqaQSCxZDRe2T5\n",
      "Ix/vrMNT//6zsHXhVAiKseS+2WcdWCp4ZYEK9UlmADyBxCMu1dQbNd6aB4mc2ftq\n",
      "v2G5fqgjo44OmJv5Y79OkSxStH4v4EM4I6864/46N4uHVZFi7kdHtA==\n",
      "=ibA/\n",
      "-----END PGP MESSAGE-----\n",
      "\n"
     ]
    }
   ],
   "source": [
    "pgp_mgr.encrypt_msg(challenge_response);"
   ]
  },
  {
   "cell_type": "code",
   "execution_count": null,
   "id": "27576ea7-e7db-482a-aa19-0d5343150ff2",
   "metadata": {},
   "outputs": [],
   "source": []
  }
 ],
 "metadata": {
  "kernelspec": {
   "display_name": "Python 3 (ipykernel)",
   "language": "python",
   "name": "python3"
  },
  "language_info": {
   "codemirror_mode": {
    "name": "ipython",
    "version": 3
   },
   "file_extension": ".py",
   "mimetype": "text/x-python",
   "name": "python",
   "nbconvert_exporter": "python",
   "pygments_lexer": "ipython3",
   "version": "3.8.10"
  }
 },
 "nbformat": 4,
 "nbformat_minor": 5
}
