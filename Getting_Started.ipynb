{
 "cells": [
  {
   "cell_type": "markdown",
   "id": "2dbb48fc-1550-49e8-a857-b7fac4e67f68",
   "metadata": {},
   "source": [
    "![Framework Logo](./images/hashcat_jtr.png)\n",
    "\n",
    "# Getting Started with the Jupyter Password Cracking Framework\n",
    "\n",
    "### Intended Use\n",
    "\n",
    "This framework is meant to make it easier automate a lot of the common tasks that arise when compeating in a password cracking competition. This includes helping to dig into the data and analyze cracked password, syncronize pot files between password cracking sessions, create customized hash lists, etc\n",
    "\n",
    "### Outside the Scope of This Framework\n",
    "\n",
    "This framework is not meant to run complex password cracking sessions, or run cracking sessions across multiple systems. For that you'll want to use a tool like hashtopolis.\n",
    "\n",
    "### Using This Framework\n",
    "\n",
    "Congradulations! If you are reading this, that means you were able to get the basic JupyterLab Notebook running. I'm including several different Notebooks to demonstrate how you can use this framework. Feel free to build off of them or create your own.\n",
    "\n",
    "When I talk about the framework, what I'm talking about is really the backend python module code. JupyterLab basically provides a nice frontend GUI to those python modules as well as it lets you run, modify, and inspect the data stored in those modules without having to reload all of the datasets. The python code can be found in **./lib_framework**. The top level module you'll probably be using is **SessionMgr**. SessionMgr has two main variables/datastructures **hash_list** and **target_list** that keep track of all the hashes, plaintexts, as well as associated metadata for your targets.\n",
    "\n",
    "Eventually I plan on putting more documentation for these datastructures here, but for now I recommend checking out the other Notebooks to see how they can be used.\n",
    "\n",
    "### Other Notebooks\n",
    "\n",
    "- CMIYC_2023_Example.ipynb:\n",
    "  - This is the first Notebook example I'd recommend viewing.\n",
    "  - It is based on the CMIYC2023 Street Team challenge, and it covers how to initialize SessionMgr, load hashes, manage potfiles, and view the data\n",
    "  \n",
    "- CMIYC_2023_Example2.ipynb:\n",
    "  - This is a more complex example that gets into leveraging this framework to crack password hashes. \n",
    "  - This includes writing targeted hashlists and creating custom wordlists.\n",
    "  - As a heads up, if you run this Notebook it will write some files to your directory for those targeted hashlists/wordlists.\n",
    "\n",
    "- CMIYC_2022_Example.ipynb\n",
    "  - This notebook incldues cracking many different individual hash files vs a combined list such as that found in the CMIYC 2023 contest\n",
    "  - This also starts to add in log processing of JtR sessions so that you can track how each of your individual cracking sessions is doing, as well as create custom word mangling rules from them\n",
    "  - I will also say, this is a work in progress notebook. I had great plans for it and adding new capabilities and testing for the existing features and then ... I did other stuff. I'd like to get back to this, dust it off, and continue to work on it, but we'll see if I actually do that or not.\n",
    "\n",
    "- CMIYC_2024_Example.ipynb:\n",
    "  - I'm actively working on this notebook and it is targeted to manageing the sample hashes for th \n",
    "  - It is based on the CMIYC2023 Street Team challenge, and it covers how to initialize SessionMgr, load hashes, manage potfiles, and view the data"
   ]
  },
  {
   "cell_type": "code",
   "execution_count": null,
   "id": "6789bbb0-1b08-4a62-bd60-0f60b5256c18",
   "metadata": {},
   "outputs": [],
   "source": []
  }
 ],
 "metadata": {
  "kernelspec": {
   "display_name": "Python 3 (ipykernel)",
   "language": "python",
   "name": "python3"
  },
  "language_info": {
   "codemirror_mode": {
    "name": "ipython",
    "version": 3
   },
   "file_extension": ".py",
   "mimetype": "text/x-python",
   "name": "python",
   "nbconvert_exporter": "python",
   "pygments_lexer": "ipython3",
   "version": "3.8.10"
  }
 },
 "nbformat": 4,
 "nbformat_minor": 5
}
