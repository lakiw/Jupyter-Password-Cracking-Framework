{
 "cells": [
  {
   "cell_type": "markdown",
   "id": "2dbb48fc-1550-49e8-a857-b7fac4e67f68",
   "metadata": {},
   "source": [
    "![Framework Logo](./images/hashcat_jtr.png)\n",
    "\n",
    "# Getting Started with the Jupyter Password Cracking Framework\n",
    "\n",
    "### Intended Use\n",
    "\n",
    "This framework is meant to make it easier automate a lot of the common tasks that arise when compeating in a password cracking competition. This includes helping to dig into the data and analyze cracked password, syncronize pot files between password cracking sessions, create customized hash lists, etc\n",
    "\n",
    "### Outside the Scope of This Framework\n",
    "\n",
    "This framework is not meant to run complex password cracking sessions, or run cracking sessions across multiple systems. For that you'll want to use a tool like hashtopolis."
   ]
  },
  {
   "cell_type": "code",
   "execution_count": null,
   "id": "64077dd7-b54f-4b01-9f4d-c67cd2f3ffe4",
   "metadata": {},
   "outputs": [],
   "source": []
  }
 ],
 "metadata": {
  "kernelspec": {
   "display_name": "Python 3",
   "language": "python",
   "name": "python3"
  },
  "language_info": {
   "codemirror_mode": {
    "name": "ipython",
    "version": 3
   },
   "file_extension": ".py",
   "mimetype": "text/x-python",
   "name": "python",
   "nbconvert_exporter": "python",
   "pygments_lexer": "ipython3",
   "version": "3.6.9"
  }
 },
 "nbformat": 4,
 "nbformat_minor": 5
}
