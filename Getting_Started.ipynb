{
 "cells": [
  {
   "cell_type": "markdown",
   "id": "2dbb48fc-1550-49e8-a857-b7fac4e67f68",
   "metadata": {},
   "source": [
    "![Framework Logo](./images/hashcat_jtr.png)\n",
    "\n",
    "# Getting Started with the Jupyter Password Cracking Framework\n",
    "\n",
    "### Intended Use\n",
    "\n",
    "This framework is meant to make it easier automate a lot of the common tasks that arise when compeating in a password cracking competition. This includes helping to dig into the data and analyze cracked password, syncronize pot files between password cracking sessions, create customized hash lists, etc\n",
    "\n",
    "### Outside the Scope of This Framework\n",
    "\n",
    "This framework is not meant to run complex password cracking sessions, or run cracking sessions across multiple systems. For that you'll want to use a tool like hashtopolis.\n",
    "\n",
    "### Usign This Framework\n",
    "\n",
    "Eventually I plan on putting more documentation in this README. Untill then you can refer to the CMIYC_2023_Example Notebook for "
   ]
  },
  {
   "cell_type": "markdown",
   "id": "af8f4f1c-19c6-4f7e-b165-cec90c96d06c",
   "metadata": {},
   "source": []
  }
 ],
 "metadata": {
  "kernelspec": {
   "display_name": "Python 3",
   "language": "python",
   "name": "python3"
  },
  "language_info": {
   "codemirror_mode": {
    "name": "ipython",
    "version": 3
   },
   "file_extension": ".py",
   "mimetype": "text/x-python",
   "name": "python",
   "nbconvert_exporter": "python",
   "pygments_lexer": "ipython3",
   "version": "3.6.9"
  }
 },
 "nbformat": 4,
 "nbformat_minor": 5
}
